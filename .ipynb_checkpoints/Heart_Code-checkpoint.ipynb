{
 "cells": [
  {
   "cell_type": "markdown",
   "id": "36dba5bd",
   "metadata": {
    "id": "36dba5bd"
   },
   "source": [
    "# Data Science Problem\n",
    "\n",
    "We (Group 5: Bassa, Jen, Thomaz, Catherine) are public health researchers and have been tasked with identifying and understanding predictors of CVD in patient populations located in high-income countries.  Our employer, a group of medical professionals, is concerned with high CVD mortality among their patient population and seeks to identify better screening methods for CVD. Therefore, our goal is to identify the predictors most correlated with CVD; this will aid medical professionals in optimizing their CVD screening algorithms.\n",
    "\n",
    "**Data Science Question:** Which predictors are associated with CVD?\n",
    "\n",
    "---\n",
    "\n",
    "### Data Sources Used\n",
    "1. [Heart Statlog](https://www.kaggle.com/sid321axn/heart-statlog-cleveland-hungary-final)\n",
    "1. [CHD](https://chronicdata.cdc.gov/500-Cities-Places/PLACES-Census-Tract-Data-GIS-Friendly-Format-2020-/yjkw-uj5s/data)"
   ]
  },
  {
   "cell_type": "markdown",
   "id": "ae87c8d7",
   "metadata": {
    "id": "ae87c8d7"
   },
   "source": [
    "# Table of content\n",
    "1. **Heart StatLog**\n",
    "    1. [Cleaning and EDA](#eda)\n",
    "    1. [Trying To Use Polynomial Transformations](#poly)\n",
    "    1. [Comparing Poly Vs Normal ds](#basic_modeling)\n",
    "    1. [Cleaning and Feature Engineering](#data_read_in)\n",
    "    1. [Making a Function to Compare Different Cleaning Methods and Model Scores](#base_scores)\n",
    "    1. [Combining Data to Get a Better Model Eval Score](#Combining_ideas)\n",
    "    1. [Cleaning the Poly from previous step to get rid of some features](#tb_clean)\n",
    "    1. [GridSearches](#gridsearches)\n",
    "        1. [Logistic](#hlog)\n",
    "        1. [Ada Boosting](#ada)\n",
    "        1. [Gradient Boosting](#gb)\n",
    "        1. [Random Forest](#rf)\n",
    "        1. [Decision Tree](#dt)\n",
    "        1. [SVC](#svc)\n",
    "        1. [KNN](#hknn)\n",
    "        1. [BNB](#hbnb)\n",
    "        1. [NN](#nn)\n",
    "        1. [Gradient Boost 2](#gd_boost2)\n",
    "        1. [Voting Classifier](#voting)\n",
    "        1. [Grid Search Scores](#gridsearch_scores)\n",
    "    1. [Analysis Based off the Best Model](#hanalysis)\n",
    "    1. [Conclusions & Recommendations](#hcnr)\n",
    "1. **CHD Dataset**  \n",
    "    1. [Data Dictionary](#jen)\n",
    "    1. [Cleaning and Engineering](#jclean)\n",
    "    1. **[Regression](#reg_eda)**\n",
    "        1. [Regression Modeling](#reg_mod)\n",
    "        1. [Linear Regression](#linear)\n",
    "        1. [Ridge](#ridge)\n",
    "        1. [Lasso](#lasso)\n",
    "        1. [Regression Results](#reg_results)\n",
    "        1. [Conclusions](#reg_conclusions)\n",
    "    1. **[Classification](#classification)**\n",
    "        1. [Cleaning/EDA & Engineering to be able to do a classification model](#cclean)\n",
    "        1. [Classification Modeling](#cmodel)\n",
    "        1. [Logistic Regression](#logreg)\n",
    "        1. [KNN](#knn)\n",
    "        1. [Bernuolli Naive Bayes](#bnb)\n",
    "        1. [Conclusions](#class_con)\n",
    "1. **[Next Steps](#nxtsteps)**\n",
    "        "
   ]
  },
  {
   "cell_type": "markdown",
   "id": "01701b23",
   "metadata": {
    "id": "01701b23"
   },
   "source": [
    "<img src ='./imgs/Data Dictionary.png'>"
   ]
  },
  {
   "cell_type": "markdown",
   "id": "d5a88e54",
   "metadata": {
    "id": "d5a88e54"
   },
   "source": [
    "## Imports"
   ]
  },
  {
   "cell_type": "code",
   "execution_count": null,
   "id": "480d96fe",
   "metadata": {
    "id": "480d96fe"
   },
   "outputs": [],
   "source": [
    "import pandas as pd\n",
    "import numpy as np\n",
    "import matplotlib.pyplot as plt\n",
    "import seaborn as sns\n",
    "\n",
    "import statsmodels.api as sm\n",
    "\n",
    "from sklearn.linear_model import LogisticRegression, LinearRegression, RidgeCV, LassoCV\n",
    "from sklearn.model_selection import train_test_split, GridSearchCV, cross_val_score\n",
    "from sklearn.metrics import accuracy_score,  classification_report, roc_auc_score, roc_curve\n",
    "from sklearn.preprocessing import OneHotEncoder, StandardScaler, PolynomialFeatures\n",
    "from sklearn.ensemble import RandomForestClassifier, BaggingClassifier, VotingClassifier\n",
    "from sklearn.tree import DecisionTreeClassifier\n",
    "from sklearn.neighbors import KNeighborsClassifier\n",
    "from sklearn.svm import SVC\n",
    "from sklearn.naive_bayes import GaussianNB, BernoulliNB\n",
    "from sklearn.ensemble import RandomForestClassifier,AdaBoostClassifier,GradientBoostingClassifier\n",
    "from sklearn import metrics\n",
    "from sklearn.pipeline import Pipeline\n",
    "\n",
    "from tensorflow.keras import Sequential\n",
    "from tensorflow.keras.layers import Dense\n",
    "from tensorflow.keras.callbacks import EarlyStopping\n",
    "from tensorflow.keras.layers import Dropout\n",
    "\n",
    "import timeit as ti"
   ]
  },
  {
   "cell_type": "code",
   "execution_count": null,
   "id": "b6ab7a65",
   "metadata": {
    "colab": {
     "base_uri": "https://localhost:8080/",
     "height": 441
    },
    "id": "b6ab7a65",
    "outputId": "d292dda5-3f79-46fa-de41-4d58079132a8"
   },
   "outputs": [],
   "source": [
    "heart = pd.read_csv('/content/heart_statlog_cleveland_hungary_final (1).csv')\n",
    "heart"
   ]
  },
  {
   "cell_type": "markdown",
   "id": "a1f49b2c",
   "metadata": {
    "id": "a1f49b2c"
   },
   "source": [
    "# Cleaning and Data exploration <span id = 'eda'>\n",
    "___"
   ]
  },
  {
   "cell_type": "markdown",
   "id": "16bf8647",
   "metadata": {
    "id": "16bf8647"
   },
   "source": [
    "### Check for null values"
   ]
  },
  {
   "cell_type": "code",
   "execution_count": null,
   "id": "af5646c4",
   "metadata": {
    "colab": {
     "base_uri": "https://localhost:8080/"
    },
    "id": "af5646c4",
    "outputId": "82ed1fff-a16f-45df-e8ca-dc70feaa6b4e"
   },
   "outputs": [],
   "source": [
    "heart.isnull().sum()"
   ]
  },
  {
   "cell_type": "code",
   "execution_count": null,
   "id": "91687bdb",
   "metadata": {
    "colab": {
     "base_uri": "https://localhost:8080/"
    },
    "id": "91687bdb",
    "outputId": "7c89bc49-c9ec-4a6d-953c-cf334e6126f4"
   },
   "outputs": [],
   "source": [
    "heart.dtypes"
   ]
  },
  {
   "cell_type": "markdown",
   "id": "d018d1f4",
   "metadata": {
    "id": "d018d1f4"
   },
   "source": [
    "### Columns to make categorical instead of numeric\n",
    "1. `chest pain type`\n",
    "> Value 1: typical angina  \n",
    "Value 2: atypical angina  \n",
    "Value 3: non-anginal pain  \n",
    "Value 4: asymptomatic\n",
    "\n",
    "1. `resting ecg`\n",
    "> Value 0: normal  \n",
    "Value 1: having ST-T wave abnormality (T wave inversions and/or ST elevation or depression of > 0.05 mV)  \n",
    "Value 2: showing probable or definite left ventricular hypertrophy by Estes' criteria\n",
    "\n",
    "1. `ST slope`\n",
    "> Value 1: upsloping  \n",
    "Value 2: flat  \n",
    "Value 3: downsloping"
   ]
  },
  {
   "cell_type": "code",
   "execution_count": null,
   "id": "50c2d83a",
   "metadata": {
    "colab": {
     "base_uri": "https://localhost:8080/",
     "height": 143
    },
    "id": "50c2d83a",
    "outputId": "d6d231d2-0aaa-4039-9289-51f03c1bc12b"
   },
   "outputs": [],
   "source": [
    "heart['chest pain type'] = heart['chest pain type'].map({1:'TA', 2:'ATA', 3: 'NAP', 4:'Asympt' })\n",
    "heart['resting ecg'] = heart['resting ecg'].map({0:'normal', 1:'ST-T abnormal', 2: 'lv hypertrophy'})\n",
    "heart['ST slope'] = heart['ST slope'].map({1:'upsloping', 2:'flat', 3:'downslopping'})\n",
    "heart.head(3)"
   ]
  },
  {
   "cell_type": "markdown",
   "id": "21b69373",
   "metadata": {
    "id": "21b69373"
   },
   "source": [
    "### Correlations of Numeric Values"
   ]
  },
  {
   "cell_type": "code",
   "execution_count": null,
   "id": "ff36858b",
   "metadata": {
    "colab": {
     "base_uri": "https://localhost:8080/",
     "height": 328
    },
    "id": "ff36858b",
    "outputId": "957fa484-0dc1-4d59-aef1-280e75c8e0af"
   },
   "outputs": [],
   "source": [
    "corr = heart.corr()\n",
    "\n",
    "plt.figure(figsize = (3, 5))\n",
    "sns.heatmap(corr[['target']].sort_values(by = 'target',ascending = False),\n",
    "            annot = True)\n",
    "# plt.savefig('./imgs/num_corr.png', dpi = 300, bbox_inches = 'tight')\n",
    "plt.show()"
   ]
  },
  {
   "cell_type": "markdown",
   "id": "11827cad",
   "metadata": {
    "id": "11827cad"
   },
   "source": [
    "**Observations**  \n",
    "> 1. `cholesterol` has a lower correlation than we would expect. \n",
    "> 2. `max heart rate` has a strong negative correlation. Possibly because the faster the heart can pump the better it is?\n",
    "> 3. It also appears that if `sex` is male, the more likely they are to have some heart disease"
   ]
  },
  {
   "cell_type": "markdown",
   "id": "3f3e6dd7",
   "metadata": {
    "id": "3f3e6dd7"
   },
   "source": [
    "<span id='poly'></span>\n",
    "## Testing polytransformations to see if we can get the correlations up a bit"
   ]
  },
  {
   "cell_type": "code",
   "execution_count": null,
   "id": "dcca653d",
   "metadata": {
    "colab": {
     "base_uri": "https://localhost:8080/",
     "height": 348
    },
    "id": "dcca653d",
    "outputId": "59d5074f-b72d-4792-f5c5-01f7103e1924"
   },
   "outputs": [],
   "source": [
    "# Lets choose specific columns first\n",
    "numeric_features = heart._get_numeric_data().columns.drop('target')\n",
    "\n",
    "poly = PolynomialFeatures(include_bias=False)\n",
    "df = poly.fit_transform(heart[numeric_features])\n",
    "\n",
    "# make it into a dateframe \n",
    "poly_df = pd.DataFrame(data = df, columns = poly.get_feature_names(numeric_features))\n",
    "poly_df.head()"
   ]
  },
  {
   "cell_type": "code",
   "execution_count": null,
   "id": "0541f302-3807-4231-b11c-b7ffdd326619",
   "metadata": {
    "colab": {
     "base_uri": "https://localhost:8080/",
     "height": 871
    },
    "id": "0541f302-3807-4231-b11c-b7ffdd326619",
    "outputId": "6372cdf2-2ea3-4ad0-ca80-1ad1665206df"
   },
   "outputs": [],
   "source": [
    "# add in our target so we can check correlation\n",
    "poly_df['target'] = heart['target']\n",
    "\n",
    "# Check our new correlation\n",
    "corr = poly_df.corr()\n",
    "\n",
    "plt.figure(figsize = (5, 15))\n",
    "sns.heatmap(corr[['target']].sort_values(by = 'target',ascending = False),\n",
    "            annot = True)\n",
    "plt.show()"
   ]
  },
  {
   "cell_type": "markdown",
   "id": "5502f74c",
   "metadata": {
    "id": "5502f74c"
   },
   "source": [
    "**Observation**  \n",
    "> It does appear that doing the poly fit has helped. Will run a cross_val_score check as a baseline on both to check though"
   ]
  },
  {
   "cell_type": "markdown",
   "id": "4cb4de77",
   "metadata": {
    "id": "4cb4de77"
   },
   "source": [
    "<span id ='basic_modeling'></span>\n",
    "## Splitting the Data for both the heart and poly_df"
   ]
  },
  {
   "cell_type": "code",
   "execution_count": null,
   "id": "a1a422ef-96d1-4e9d-a97f-392f9ec2c2cb",
   "metadata": {
    "id": "a1a422ef-96d1-4e9d-a97f-392f9ec2c2cb"
   },
   "outputs": [],
   "source": [
    "# only using numeric features how much the polytrans will affect scores without the categorical columns\n",
    "X_heart = heart[numeric_features]\n",
    "X_poly = poly_df.drop('target', axis = 1)\n",
    "y = heart['target']\n",
    "\n",
    "X_heart_train, X_heart_test, y_train, y_test = train_test_split(X_heart, y, stratify=y, random_state= 1996)\n",
    "X_poly_train, X_poly_test, y_train, y_test = train_test_split(X_poly, y, stratify=y, random_state= 1996)"
   ]
  },
  {
   "cell_type": "code",
   "execution_count": null,
   "id": "8d847fc7",
   "metadata": {
    "id": "8d847fc7"
   },
   "outputs": [],
   "source": [
    "# Scaling the data for only the trains since we aren't looking at test rn\n",
    "sc = StandardScaler()\n",
    "X_heart_train = sc.fit_transform(X_heart_train)\n",
    "X_poly_train = sc.fit_transform(X_poly_train)"
   ]
  },
  {
   "cell_type": "code",
   "execution_count": null,
   "id": "fdd64a91",
   "metadata": {
    "colab": {
     "base_uri": "https://localhost:8080/"
    },
    "id": "fdd64a91",
    "outputId": "31f2673f-7410-420a-a94a-934216b6dcd0"
   },
   "outputs": [],
   "source": [
    "print(cross_val_score(LogisticRegression(max_iter=10_000), X_heart_train, y_train, cv = 5).mean())\n",
    "print(cross_val_score(LogisticRegression(max_iter=10_000), X_poly_train, y_train, cv = 5).mean())"
   ]
  },
  {
   "cell_type": "markdown",
   "id": "0352d4cd",
   "metadata": {
    "id": "0352d4cd"
   },
   "source": [
    "**Observation**\n",
    "> The polytransforming does seem to help a bit, but only by 2%, however keep in mind that this is without the categorical columns as well as no gridsearch, out final score might be even higher"
   ]
  },
  {
   "cell_type": "code",
   "execution_count": null,
   "id": "2a4a4fdd",
   "metadata": {
    "colab": {
     "base_uri": "https://localhost:8080/"
    },
    "id": "2a4a4fdd",
    "outputId": "47c374fb-607f-463a-80a2-06eae85fd53a"
   },
   "outputs": [],
   "source": [
    "cat_col = list(set(heart.columns) - set(numeric_features))\n",
    "cat_col.remove('target')\n",
    "cat_col"
   ]
  },
  {
   "cell_type": "code",
   "execution_count": null,
   "id": "095ff056",
   "metadata": {
    "colab": {
     "base_uri": "https://localhost:8080/",
     "height": 224
    },
    "id": "095ff056",
    "outputId": "a62db1f2-83bb-476d-f11e-72fec6fdff9e"
   },
   "outputs": [],
   "source": [
    "# Lets make these columns into dummies to append to the X_poly df\n",
    "dummy_df = pd.get_dummies(data = heart[cat_col], drop_first=True)\n",
    "dummy_df.head()"
   ]
  },
  {
   "cell_type": "code",
   "execution_count": null,
   "id": "02efba3c",
   "metadata": {
    "colab": {
     "base_uri": "https://localhost:8080/",
     "height": 313
    },
    "id": "02efba3c",
    "outputId": "c049b9b2-df7e-44f5-9055-ce5d65aaaaa2"
   },
   "outputs": [],
   "source": [
    "## add the dummy to X_poly\n",
    "X_poly_dummy = X_poly.join(dummy_df)\n",
    "X_poly_dummy.head()"
   ]
  },
  {
   "cell_type": "code",
   "execution_count": null,
   "id": "82ac2fe4",
   "metadata": {
    "colab": {
     "base_uri": "https://localhost:8080/",
     "height": 198
    },
    "id": "82ac2fe4",
    "outputId": "0af2ded3-aa50-4a0b-b0db-4af719474eb6"
   },
   "outputs": [],
   "source": [
    "# One last check score check with the original df vs poly with all columns now\n",
    "# Make the dummy_df full\n",
    "heart_dummy = pd.get_dummies(data = heart, columns=cat_col)\n",
    "heart_dummy.head(3)"
   ]
  },
  {
   "cell_type": "code",
   "execution_count": null,
   "id": "e32a7870",
   "metadata": {
    "id": "e32a7870"
   },
   "outputs": [],
   "source": [
    "# make a new X since the target is still here\n",
    "X_heart = heart_dummy.drop('target', axis = 1)\n",
    "\n",
    "X_heart_train, X_heart_test, y_train, y_test = train_test_split(X_heart, y, stratify=y, random_state= 1996)\n",
    "X_poly_train, X_poly_test, y_train, y_test = train_test_split(X_poly, y, stratify=y, random_state= 1996)"
   ]
  },
  {
   "cell_type": "code",
   "execution_count": null,
   "id": "7c6030d2",
   "metadata": {
    "id": "7c6030d2"
   },
   "outputs": [],
   "source": [
    "sc = StandardScaler()\n",
    "X_heart_train = sc.fit_transform(X_heart_train)\n",
    "X_poly_train = sc.fit_transform(X_poly_train)"
   ]
  },
  {
   "cell_type": "code",
   "execution_count": null,
   "id": "12574f0b",
   "metadata": {
    "colab": {
     "base_uri": "https://localhost:8080/"
    },
    "id": "12574f0b",
    "outputId": "8fccdd21-8baa-4b8e-8fcf-2fbc9c926f25"
   },
   "outputs": [],
   "source": [
    "print(cross_val_score(LogisticRegression(max_iter=20_000, tol = 0.1), X_heart_train, y_train, cv = 5).mean())\n",
    "print(cross_val_score(LogisticRegression(max_iter=20_000, tol = 0.1,), X_poly_train, y_train, cv = 5).mean())"
   ]
  },
  {
   "cell_type": "markdown",
   "id": "3c413733",
   "metadata": {
    "id": "3c413733"
   },
   "source": [
    "**Observation**\n",
    "> While both the testing set averages went up, the difference between the two is now only around 0.4%. We would still like to go forward with the poly set though. It is a a bit better and we can try getting rid of some columns and keeping what has a higher coef"
   ]
  },
  {
   "cell_type": "markdown",
   "id": "6e6802bd",
   "metadata": {
    "id": "6e6802bd"
   },
   "source": [
    "# Set up Data Version 2 <span id='data_read_in'>"
   ]
  },
  {
   "cell_type": "markdown",
   "id": "ceb9de98",
   "metadata": {
    "id": "ceb9de98"
   },
   "source": [
    "### Reading in the data"
   ]
  },
  {
   "cell_type": "code",
   "execution_count": null,
   "id": "20b6eba1",
   "metadata": {
    "id": "20b6eba1"
   },
   "outputs": [],
   "source": [
    "hrt_dt = pd.read_csv('/content/heart_statlog_cleveland_hungary_final (1).csv')"
   ]
  },
  {
   "cell_type": "markdown",
   "id": "25e2616f",
   "metadata": {
    "id": "25e2616f"
   },
   "source": [
    "### Feature Engineering"
   ]
  },
  {
   "cell_type": "code",
   "execution_count": null,
   "id": "031c351a",
   "metadata": {
    "id": "031c351a"
   },
   "outputs": [],
   "source": [
    "hrt_dt[\"ST slope_sqr\"] = hrt_dt[\"ST slope\"]**2\n",
    "hrt_dt[\"chest pain type_sqr\"]  = hrt_dt[\"chest pain type\"]**2\n",
    "hrt_dt[\"ST slope*chest pain type\"] = hrt_dt[\"ST slope\"]*hrt_dt[\"chest pain type\"] \n",
    "hrt_dt[\"ST slope*cholesterol\"] = hrt_dt[\"cholesterol\"]*hrt_dt[\"ST slope\"]\n",
    "hrt_dt[\"cholesterol*max heart rate\"] = hrt_dt[\"max heart rate\"]*hrt_dt[\"cholesterol\"]"
   ]
  },
  {
   "cell_type": "markdown",
   "id": "d7baa1df",
   "metadata": {
    "id": "d7baa1df"
   },
   "source": [
    "<span id = 'base_scores'></span>\n",
    "## Making a function to return multiple test results (No hyperparameters) in a DF"
   ]
  },
  {
   "cell_type": "code",
   "execution_count": null,
   "id": "ab2eecbc",
   "metadata": {
    "colab": {
     "base_uri": "https://localhost:8080/",
     "height": 69
    },
    "id": "ab2eecbc",
    "outputId": "49748cc0-29f9-4d1f-d158-cf8242c67857"
   },
   "outputs": [],
   "source": [
    "base_df = pd.DataFrame(columns=['Notes','Log_train', 'Log_test','Bag_train', 'Bag_test',\n",
    "                                'Ada_boost_train', 'Ada_boost_test','Grad_train',\n",
    "                                'Grad_test','RF_train','RF_test',\n",
    "                                'SVC_train','SVC_test', 'KNN_train', 'KNN_test'])\n",
    "base_df"
   ]
  },
  {
   "cell_type": "code",
   "execution_count": null,
   "id": "3f8e4707",
   "metadata": {
    "id": "3f8e4707"
   },
   "outputs": [],
   "source": [
    "# purpose to get number of different test accuracy quickly to see if getting rid of features help or not beore testing\n",
    "def base_scores(X, y, note):\n",
    "    # Set up general train test splits\n",
    "    X_train, X_test, y_train, y_test = train_test_split(X, y, stratify = y,test_size = 0.3, random_state =22)\n",
    "    ss = StandardScaler()\n",
    "    X_train_ss = ss.fit_transform(X_train)\n",
    "    X_test_ss = ss.transform(X_test)\n",
    "    \n",
    "    # Results for Logistic Regression\n",
    "    log_model = LogisticRegression(max_iter=2_000)\n",
    "    log_model.fit(X_train_ss, y_train)\n",
    "    log_train = log_model.score(X_train_ss, y_train)\n",
    "    log_test = log_model.score(X_test_ss, y_test)\n",
    "\n",
    "    \n",
    "    # Results for Bagging\n",
    "    bag = BaggingClassifier(random_state=42)\n",
    "    bag.fit(X_train, y_train)\n",
    "    bag_train = bag.score(X_train, y_train)\n",
    "    bag_test = bag.score(X_test, y_test)\n",
    "\n",
    "    \n",
    "    # Ada Boosting no base estimator\n",
    "    adabost = AdaBoostClassifier(base_estimator=RandomForestClassifier(max_depth=2))\n",
    "    adabost.fit(X_train, y_train)\n",
    "    ada_train = adabost.score(X_train, y_train)\n",
    "    ada_test = adabost.score(X_test, y_test)\n",
    "\n",
    "    \n",
    "    # Gradient Boosting\n",
    "    base_gbost = GradientBoostingClassifier()\n",
    "    base_gbost.fit(X_train, y_train)\n",
    "    base_gb_train = base_gbost.score(X_train, y_train)\n",
    "    base_gb_test = base_gbost.score(X_test, y_test)\n",
    "\n",
    "    \n",
    "    # RandomForest\n",
    "    rf = RandomForestClassifier()\n",
    "    rf.fit(X_train, y_train)\n",
    "    rf_train = rf.score(X_train, y_train)\n",
    "    rf_test = rf.score(X_test, y_test)\n",
    "    \n",
    "    \n",
    "    # SVM\n",
    "    svc = SVC()\n",
    "    svc.fit(X_train_ss, y_train)\n",
    "    svc_train = svc.score(X_train_ss, y_train)\n",
    "    svc_test = svc.score(X_test_ss, y_test)\n",
    "\n",
    "    \n",
    "    # KNN\n",
    "    knn = KNeighborsClassifier()\n",
    "    knn.fit(X_train_ss, y_train)\n",
    "    knn_train = knn.score(X_train_ss, y_train)\n",
    "    knn_test = knn.score(X_test_ss, y_test)\n",
    "    \n",
    "    \n",
    "    # adding all the information to a dataframe\n",
    "    info_list = []\n",
    "    d = {}\n",
    "    d['Notes'] = note\n",
    "    d['Log_train'] = log_train\n",
    "    d['Log_test'] = log_test\n",
    "    d['Bag_train'] = bag_train\n",
    "    d['Bag_test'] = bag_test\n",
    "    d['Ada_boost_train'] = ada_train\n",
    "    d['Ada_boost_test'] = ada_test\n",
    "    d['Grad_train'] = base_gb_train\n",
    "    d['Grad_test'] = base_gb_test\n",
    "    d['RF_train'] = rf_train\n",
    "    d['RF_test'] = rf_test\n",
    "    d['SVC_train'] = svc_train\n",
    "    d['SVC_test'] = svc_test\n",
    "    d['KNN_train'] = knn_train\n",
    "    d['KNN_test'] = knn_test\n",
    "    \n",
    "    # appending all this information to a list to add to the dataframe base_df\n",
    "    info_list.append(d)\n",
    "    return base_df.append(info_list)"
   ]
  },
  {
   "cell_type": "code",
   "execution_count": null,
   "id": "9357a512",
   "metadata": {
    "id": "9357a512"
   },
   "outputs": [],
   "source": [
    "def graph_scores(X, y):\n",
    "    # Set up general train test splits\n",
    "    X_train, X_test, y_train, y_test = train_test_split(X, y, stratify = y,test_size = 0.3, random_state =22)\n",
    "    ss = StandardScaler()\n",
    "    X_train_ss = ss.fit_transform(X_train)\n",
    "    X_test_ss = ss.transform(X_test)\n",
    "  \n",
    "    testing_accuracy_dict = {}\n",
    "    # Results for Logistic Regression\n",
    "    log_model = LogisticRegression(max_iter=2000)\n",
    "    log_model.fit(X_train_ss, y_train)\n",
    "\n",
    "    testing_accuracy_dict[\"log_model\"] = []\n",
    "    testing_accuracy_dict[\"log_model\"].append(log_model.score(X_train_ss, y_train))\n",
    "    testing_accuracy_dict[\"log_model\"].append(log_model.score(X_test_ss, y_test))\n",
    "     \n",
    "    # Results for Bagging\n",
    "    bag_modle = BaggingClassifier(random_state=42)\n",
    "    bag_modle.fit(X_train, y_train)\n",
    "\n",
    "    testing_accuracy_dict[\"bag_model\"] = []\n",
    "    testing_accuracy_dict[\"bag_model\"].append(bag_modle.score(X_train, y_train))\n",
    "    testing_accuracy_dict[\"bag_model\"].append(bag_modle.score(X_test, y_test))\n",
    "    # Ada Boosting no base estimator\n",
    "    adabost = AdaBoostClassifier(base_estimator=RandomForestClassifier(max_depth=2))\n",
    "    adabost.fit(X_train, y_train)\n",
    "\n",
    "    # Gradient Boosting\n",
    "    base_gbost = GradientBoostingClassifier()\n",
    "    base_gbost.fit(X_train, y_train)\n",
    "\n",
    "    testing_accuracy_dict[\"base_gbost\"] = []\n",
    "    testing_accuracy_dict[\"base_gbost\"].append(base_gbost.score(X_train, y_train))\n",
    "    testing_accuracy_dict[\"base_gbost\"].append(base_gbost.score(X_test, y_test))\n",
    "    \n",
    "    # RandomForest\n",
    "    rf_model = RandomForestClassifier()\n",
    "    rf_model.fit(X_train, y_train)\n",
    "\n",
    "    \n",
    "    testing_accuracy_dict[\"rf_model\"] = []\n",
    "    testing_accuracy_dict[\"rf_model\"].append(rf_model.score(X_train, y_train))\n",
    "    testing_accuracy_dict[\"rf_model\"].append(rf_model.score(X_test, y_test))\n",
    "    \n",
    "    \n",
    "    # SVM\n",
    "    svc_model = SVC()\n",
    "    svc_model.fit(X_train_ss, y_train)\n",
    "\n",
    "    \n",
    "    testing_accuracy_dict[\"svc_model\"] = []\n",
    "    testing_accuracy_dict[\"svc_model\"].append(svc_model.score(X_train, y_train))\n",
    "    testing_accuracy_dict[\"svc_model\"].append(svc_model.score(X_test, y_test))\n",
    "    \n",
    "    # KNN\n",
    "    knn_model = KNeighborsClassifier()\n",
    "    knn_model.fit(X_train_ss, y_train)\n",
    "\n",
    "    testing_accuracy_dict[\"knn_model\"] = []\n",
    "    testing_accuracy_dict[\"knn_model\"].append(knn_model.score(X_train, y_train))\n",
    "    testing_accuracy_dict[\"knn_model\"].append(knn_model.score(X_test, y_test))\n",
    "    \n",
    "    return testing_accuracy_dict"
   ]
  },
  {
   "cell_type": "code",
   "execution_count": null,
   "id": "bfd2424e",
   "metadata": {
    "id": "bfd2424e"
   },
   "outputs": [],
   "source": [
    "X_data = hrt_dt.drop(\"target\", axis = 1)\n",
    "X_heart = heart[numeric_features] # numeric features only\n",
    "X_heart_dummy = heart_dummy.drop('target', axis = 1)\n",
    "X_poly = poly_df.drop('target', axis = 1)\n",
    "X_poly_dummy = X_poly_dummy\n",
    "\n",
    "y = heart['target']"
   ]
  },
  {
   "cell_type": "code",
   "execution_count": null,
   "id": "d7e6f5bc",
   "metadata": {
    "colab": {
     "base_uri": "https://localhost:8080/",
     "height": 348
    },
    "id": "d7e6f5bc",
    "outputId": "a0f79718-5ac9-4236-e604-7a2ca21ad19e",
    "scrolled": true
   },
   "outputs": [],
   "source": [
    "base_df = base_scores(X_data, y, \"DF data\")\n",
    "base_df = base_scores(X_heart, y, \"Heart Numeric Only\")\n",
    "base_df = base_scores(X_heart_dummy, y, \"Heart w/ dummy\")\n",
    "base_df = base_scores(X_poly, y, \"Poly numeric only\")\n",
    "base_df = base_scores(X_poly_dummy, y, \"Poly with dummy\")\n",
    "\n",
    "base_df"
   ]
  },
  {
   "cell_type": "code",
   "execution_count": null,
   "id": "4edcb81a",
   "metadata": {
    "colab": {
     "base_uri": "https://localhost:8080/",
     "height": 348
    },
    "id": "4edcb81a",
    "outputId": "32e13d07-8c85-465a-cfdf-7bd8b4861b12"
   },
   "outputs": [],
   "source": [
    "base_df.reset_index(inplace=True)\n",
    "base_df.drop('index', axis = 1, inplace = True)\n",
    "base_df.head()"
   ]
  },
  {
   "cell_type": "code",
   "execution_count": null,
   "id": "b74ee1dc",
   "metadata": {
    "colab": {
     "base_uri": "https://localhost:8080/"
    },
    "id": "b74ee1dc",
    "outputId": "eb2a0f91-2869-4e07-daf7-27a4f584f759",
    "scrolled": true
   },
   "outputs": [],
   "source": [
    "sum(base_df.loc[0,['Log_test','Bag_test','Ada_boost_test',\n",
    "                            'Grad_test','RF_test','SVC_test', 'KNN_test']] > base_df.loc[4,['Log_test','Bag_test','Ada_boost_test','Grad_test','RF_test','SVC_test', 'KNN_test']])"
   ]
  },
  {
   "cell_type": "markdown",
   "id": "bfe917b8",
   "metadata": {
    "id": "bfe917b8"
   },
   "source": [
    "> Out of 7 columns, so 7 different test, the second version's cleaned data did better than the Polyfit with the dummy 3 times, and tied once. One thing to note is that second version data has 35 fewer columns and therefore more efficent in find the the important features and combinations  \n",
    "\n",
    "> One idea coming to mind right now would be to keep the data as is (without making it into categorical columns and just doing a polyfit"
   ]
  },
  {
   "cell_type": "markdown",
   "id": "b55e707a",
   "metadata": {
    "id": "b55e707a"
   },
   "source": [
    "<span id ='Combining_ideas'></span>\n",
    "## Combining Data & Ideas"
   ]
  },
  {
   "cell_type": "code",
   "execution_count": null,
   "id": "4b1a78ef",
   "metadata": {
    "id": "4b1a78ef"
   },
   "outputs": [],
   "source": [
    "heart_3 = pd.read_csv('/content/heart_statlog_cleveland_hungary_final (1).csv')"
   ]
  },
  {
   "cell_type": "code",
   "execution_count": null,
   "id": "73661baf",
   "metadata": {
    "id": "73661baf"
   },
   "outputs": [],
   "source": [
    "# Changing name from `resting bp s` to resting SBP`\n",
    "heart_3.rename(columns={'resting bp s': 'resting SBP'}, inplace = True)"
   ]
  },
  {
   "cell_type": "code",
   "execution_count": null,
   "id": "c8b01210",
   "metadata": {
    "colab": {
     "base_uri": "https://localhost:8080/",
     "height": 328
    },
    "id": "c8b01210",
    "outputId": "bbec235e-71f5-4a98-a301-9a04ffc7427e"
   },
   "outputs": [],
   "source": [
    "corr = heart_3.corr()\n",
    "\n",
    "plt.figure(figsize = (3, 5))\n",
    "sns.heatmap(corr[['target']].sort_values(by = 'target',ascending = False),\n",
    "            annot = True)\n",
    "\n",
    "plt.show()"
   ]
  },
  {
   "cell_type": "code",
   "execution_count": null,
   "id": "7433d300",
   "metadata": {
    "colab": {
     "base_uri": "https://localhost:8080/",
     "height": 348
    },
    "id": "7433d300",
    "outputId": "a62595ea-689e-4738-e0ad-de9f31305530"
   },
   "outputs": [],
   "source": [
    "# Lets choose specific columns first\n",
    "numeric_features_2 = heart_3.drop('target', axis = 1).columns\n",
    "\n",
    "poly_2 = PolynomialFeatures(include_bias=False)\n",
    "df_2 = poly_2.fit_transform(heart_3[numeric_features_2])\n",
    "\n",
    "# make it into a dateframe \n",
    "poly_df_2 = pd.DataFrame(data = df_2, columns = poly_2.get_feature_names(numeric_features_2))\n",
    "poly_df_2.head()"
   ]
  },
  {
   "cell_type": "code",
   "execution_count": null,
   "id": "62cf5349",
   "metadata": {
    "colab": {
     "base_uri": "https://localhost:8080/",
     "height": 1000
    },
    "id": "62cf5349",
    "outputId": "b2f50fa6-506a-45e6-ba2a-08284169e12f"
   },
   "outputs": [],
   "source": [
    "# adding in the target variable to get a corralation\n",
    "poly_df_2['target'] = y\n",
    "corr = poly_df_2.corr()\n",
    "\n",
    "plt.figure(figsize = (5, 18))\n",
    "sns.heatmap(corr[['target']].sort_values(by = 'target',ascending = False),\n",
    "            annot = True)\n",
    "\n",
    "plt.show()"
   ]
  },
  {
   "cell_type": "code",
   "execution_count": null,
   "id": "e52cfbbf",
   "metadata": {
    "colab": {
     "base_uri": "https://localhost:8080/",
     "height": 379
    },
    "id": "e52cfbbf",
    "outputId": "05d98834-9542-4678-bf47-85b2b06756be"
   },
   "outputs": [],
   "source": [
    "X_poly_2 = poly_df_2.drop('target', axis =1)\n",
    "base_df = base_scores(X_poly_2, y, \"Combined Poly idea\")\n",
    "\n",
    "base_df"
   ]
  },
  {
   "cell_type": "code",
   "execution_count": null,
   "id": "a706581c",
   "metadata": {
    "colab": {
     "base_uri": "https://localhost:8080/",
     "height": 379
    },
    "id": "a706581c",
    "outputId": "76d5f2c1-7432-419e-ed41-13a6276df869"
   },
   "outputs": [],
   "source": [
    "base_df.reset_index(inplace=True)\n",
    "base_df.drop('index', axis = 1, inplace = True)\n",
    "base_df"
   ]
  },
  {
   "cell_type": "code",
   "execution_count": null,
   "id": "b4f14133",
   "metadata": {
    "colab": {
     "base_uri": "https://localhost:8080/"
    },
    "id": "b4f14133",
    "outputId": "b7e63a0b-da17-40ba-a4fc-ab2473781419"
   },
   "outputs": [],
   "source": [
    "sum(base_df.loc[0,['Log_test','Bag_test','Ada_boost_test',\n",
    "                            'Grad_test','RF_test','SVC_test', 'KNN_test']] < base_df.loc[5,['Log_test','Bag_test','Ada_boost_test','Grad_test','RF_test','SVC_test', 'KNN_test']])"
   ]
  },
  {
   "cell_type": "markdown",
   "id": "dfd710a7",
   "metadata": {
    "id": "dfd710a7"
   },
   "source": [
    "> Combing ideas, we managed to get a model that did better in 5/7 tests, so this will be the dataset we will work from"
   ]
  },
  {
   "cell_type": "markdown",
   "id": "313cfd78",
   "metadata": {
    "id": "313cfd78"
   },
   "source": [
    "<span id = 'tb_clean'></span>\n",
    "\n",
    "---\n",
    "\n",
    "\n",
    "## Getting rid of some columns from Combined_poly"
   ]
  },
  {
   "cell_type": "code",
   "execution_count": null,
   "id": "def1dac7",
   "metadata": {
    "colab": {
     "base_uri": "https://localhost:8080/",
     "height": 1000
    },
    "id": "def1dac7",
    "outputId": "3f6c8427-d0fd-40bd-ca8f-0b6c674f304f"
   },
   "outputs": [],
   "source": [
    "# Adding in the target variable to get a corralation\n",
    "corr = poly_df_2.corr()[['target']]\n",
    "corr = corr.loc[(corr['target'] > .2) | (corr['target'] < -0.2)]\n",
    "\n",
    "plt.figure(figsize = (5, 18))\n",
    "sns.heatmap(corr[['target']].sort_values(by = 'target',ascending = False),\n",
    "            annot = True)\n",
    "plt.show()"
   ]
  },
  {
   "cell_type": "code",
   "execution_count": null,
   "id": "397255ee",
   "metadata": {
    "id": "397255ee"
   },
   "outputs": [],
   "source": [
    "poly_3 = poly_df_2[list(corr.index)]\n",
    "X_poly_3 = poly_3.drop('target', axis = 1)"
   ]
  },
  {
   "cell_type": "code",
   "execution_count": null,
   "id": "26a8f31e",
   "metadata": {
    "colab": {
     "base_uri": "https://localhost:8080/",
     "height": 428
    },
    "id": "26a8f31e",
    "outputId": "b7cb1ce0-d7c1-4e1b-b043-9d83382c457f"
   },
   "outputs": [],
   "source": [
    "base_df = base_scores(X_poly_3, y, \"Got rid of low corr\")\n",
    "base_df.reset_index(inplace=True)\n",
    "base_df.drop('index', axis = 1, inplace = True)\n",
    "base_df"
   ]
  },
  {
   "cell_type": "code",
   "execution_count": null,
   "id": "0585b478",
   "metadata": {
    "colab": {
     "base_uri": "https://localhost:8080/"
    },
    "id": "0585b478",
    "outputId": "66949a3c-2466-4839-ddc8-3c2f76528904"
   },
   "outputs": [],
   "source": [
    "sum(base_df.loc[6,['Log_test','Bag_test','Ada_boost_test',\n",
    "                            'Grad_test','RF_test','SVC_test', 'KNN_test']] > base_df.loc[5,['Log_test','Bag_test','Ada_boost_test','Grad_test','RF_test','SVC_test', 'KNN_test']])"
   ]
  },
  {
   "cell_type": "markdown",
   "id": "b7c574b7",
   "metadata": {
    "id": "b7c574b7"
   },
   "source": [
    "> By getting rid of some 20-ish rows, the new dataframe is now tied with the full combined_poly. 3 wins and 1 tie"
   ]
  },
  {
   "cell_type": "markdown",
   "id": "9cddac3e",
   "metadata": {
    "id": "9cddac3e"
   },
   "source": [
    "## Visual Representation of Accuracy of the Top 2 Datasets"
   ]
  },
  {
   "cell_type": "code",
   "execution_count": null,
   "id": "9aaf4199",
   "metadata": {
    "colab": {
     "base_uri": "https://localhost:8080/",
     "height": 761
    },
    "id": "9aaf4199",
    "outputId": "7a947815-ff69-4cad-c807-06176eb9afcf"
   },
   "outputs": [],
   "source": [
    "keys = [key for key in graph_scores(X_data, y).keys()]\n",
    "values = [value for value in graph_scores(X_data, y).values()]\n",
    "fig, ax = plt.subplots(figsize = (8, 6))\n",
    "ax.bar(np.arange(len(keys)) - 0.1, [value[0] for value in values],\n",
    "       width=0.3, color='#DE8F8F', align='center', label = \"training\")\n",
    "ax.bar(np.arange(len(keys)) + 0.1,\n",
    "       [value[1] if len(value) == 2 else 0 for value in values],\n",
    "       width=0.3, color='#8FA3DE', align='center',  label = \"testing\")\n",
    "ax.set_xticks(np.arange(len(keys)))\n",
    "ax.set_xticklabels(keys, rotation=45,  fontsize = 15,\n",
    "                   fontweight = \"bold\")\n",
    "plt.legend(fontsize = 12)\n",
    "plt.title('Select Feature Engineering', size = 18)\n",
    "# plt.savefig('./imgs/sfe_models.png',dpi=300, bbox_inches = \"tight\")\n",
    "\n",
    "plt.show()"
   ]
  },
  {
   "cell_type": "code",
   "execution_count": null,
   "id": "f705ab07",
   "metadata": {
    "colab": {
     "base_uri": "https://localhost:8080/",
     "height": 761
    },
    "id": "f705ab07",
    "outputId": "20326f41-6ca6-44f8-e2c3-6522eb4501fd"
   },
   "outputs": [],
   "source": [
    "keys = [key for key in graph_scores(X_poly_3, y).keys()]\n",
    "values = [value for value in graph_scores(X_poly_3, y).values()]\n",
    "fig, ax = plt.subplots(figsize = (8, 6))\n",
    "ax.bar(np.arange(len(keys)) - 0.1, [value[0] for value in values],\n",
    "       width=0.3, color='#F1948A', align='center', label = \"training\")\n",
    "ax.bar(np.arange(len(keys)) + 0.1,\n",
    "       [value[1] if len(value) == 2 else 0 for value in values],\n",
    "       width=0.3, color='#85C1E9', align='center',  label = \"testing\")\n",
    "ax.set_xticks(np.arange(len(keys)))\n",
    "ax.set_xticklabels(keys, rotation=45,  fontsize = 15,\n",
    "                   fontweight = \"bold\")\n",
    "plt.legend(fontsize = 12)\n",
    "plt.title('Poly w/ Fewer Columns', size = 18)\n",
    "# plt.savefig('./imgs/pwfc_models.png',dpi=300, bbox_inches = \"tight\")\n",
    "plt.show()"
   ]
  },
  {
   "cell_type": "markdown",
   "id": "c0abdcac",
   "metadata": {
    "id": "c0abdcac"
   },
   "source": [
    "<span id = 'gridsearches'></span>\n",
    "## Time to start looking at some GridSearches\n",
    "> Using the poly_3 because it has fewer columns and did well on some tests, and will hopefully let the models run a bit faster"
   ]
  },
  {
   "cell_type": "markdown",
   "id": "ddb3f8f3",
   "metadata": {
    "id": "ddb3f8f3"
   },
   "source": [
    "### Basic Function to print out the Recall, Precision, and Accuracy"
   ]
  },
  {
   "cell_type": "code",
   "execution_count": null,
   "id": "e3e79955",
   "metadata": {
    "id": "e3e79955"
   },
   "outputs": [],
   "source": [
    "## This will just be a function to return the recall, precision, accuracy\n",
    "def arp(model, X, y,):\n",
    "    preds = model.predict(X)\n",
    "    \n",
    "    scores = {}\n",
    "    scores['Recall']  = metrics.recall_score(y, preds)\n",
    "    scores['Precision'] = metrics.precision_score(y, preds)\n",
    "    scores['Accuracy'] = metrics.accuracy_score(y, preds)\n",
    "    return scores"
   ]
  },
  {
   "cell_type": "markdown",
   "id": "dd6c5f6e",
   "metadata": {
    "id": "dd6c5f6e"
   },
   "source": [
    "### Function to Return the Scores and Added Metrics From Above in a Dataframe"
   ]
  },
  {
   "cell_type": "code",
   "execution_count": null,
   "id": "c90aacee",
   "metadata": {
    "id": "c90aacee"
   },
   "outputs": [],
   "source": [
    "grid_df = pd.DataFrame()\n",
    "\n",
    "def add_2_grid(model, X, y, note):\n",
    "    # Instantiate a list and dictionary\n",
    "    info_list = []\n",
    "    d = {}\n",
    "    \n",
    "    # Run function from above to get the results\n",
    "    results = arp(model, X, y)\n",
    "    \n",
    "    # Add to the dictionary\n",
    "    d['Notes'] = note\n",
    "    d['Recall'] = results['Recall']\n",
    "    d['Precision'] = results['Precision']\n",
    "    d['Accuracy'] = results['Accuracy']\n",
    "\n",
    "    # Appending all this information to a list to add to the dataframe base_df\n",
    "    info_list.append(d)\n",
    "    return grid_df.append(info_list)"
   ]
  },
  {
   "cell_type": "markdown",
   "id": "e88d7b9e",
   "metadata": {
    "id": "e88d7b9e"
   },
   "source": [
    "### First we need to train test split our data"
   ]
  },
  {
   "cell_type": "code",
   "execution_count": null,
   "id": "f9503f67",
   "metadata": {
    "id": "f9503f67"
   },
   "outputs": [],
   "source": [
    "X_train, X_test, y_train, y_test = train_test_split(X_poly_3, y, stratify = y, test_size=0.30, random_state=22)"
   ]
  },
  {
   "cell_type": "markdown",
   "id": "3d2d1ec1",
   "metadata": {
    "id": "3d2d1ec1"
   },
   "source": [
    "### Getting the Baseline"
   ]
  },
  {
   "cell_type": "code",
   "execution_count": null,
   "id": "2d496a1b",
   "metadata": {
    "colab": {
     "base_uri": "https://localhost:8080/"
    },
    "id": "2d496a1b",
    "outputId": "8d8498e6-aeb4-4a35-dea1-510e3d7288ea"
   },
   "outputs": [],
   "source": [
    "y_test.value_counts(normalize=True)"
   ]
  },
  {
   "cell_type": "markdown",
   "id": "57ea7a21",
   "metadata": {
    "id": "57ea7a21"
   },
   "source": [
    "## Logistic Regression<span id ='hlog'>"
   ]
  },
  {
   "cell_type": "code",
   "execution_count": null,
   "id": "a2faacac",
   "metadata": {
    "colab": {
     "base_uri": "https://localhost:8080/"
    },
    "id": "a2faacac",
    "outputId": "6c0d18cd-1955-4738-9764-a557a9d2582a"
   },
   "outputs": [],
   "source": [
    "# Make a pipe so we can scale our data\n",
    "lr_pipe = Pipeline([('sc', StandardScaler()),\n",
    "                   ('lr', LogisticRegression())])\n",
    "\n",
    "lr_params = {'lr__penalty': ['l1', 'l2'],\n",
    "             'lr__tol': [0.1, 0.01, 0.001],\n",
    "             'lr__C': [2, 1, 0.5],\n",
    "             'lr__solver': ['saga'],\n",
    "             'lr__max_iter': [5000]}\n",
    "\n",
    "lr_gs = GridSearchCV(lr_pipe, \n",
    "                     lr_params,\n",
    "                     cv = 3,\n",
    "                     verbose = 1)\n",
    "\n",
    "lr_gs.fit(X_train, y_train)\n",
    "print(lr_gs.best_params_)\n",
    "print(lr_gs.best_score_)"
   ]
  },
  {
   "cell_type": "code",
   "execution_count": null,
   "id": "9aecbe4d",
   "metadata": {
    "colab": {
     "base_uri": "https://localhost:8080/"
    },
    "id": "9aecbe4d",
    "outputId": "f2691a85-4ccb-4eec-88f7-077b94f065e7"
   },
   "outputs": [],
   "source": [
    "print('Training:', lr_gs.score(X_train, y_train))\n",
    "print('Test:', lr_gs.score(X_test, y_test))"
   ]
  },
  {
   "cell_type": "markdown",
   "id": "1805ec74",
   "metadata": {
    "id": "1805ec74"
   },
   "source": [
    "> For logistic, it seems as though the default parameters are the best, with a test score of 86.83%"
   ]
  },
  {
   "cell_type": "code",
   "execution_count": null,
   "id": "791afaf8",
   "metadata": {
    "colab": {
     "base_uri": "https://localhost:8080/",
     "height": 357
    },
    "id": "791afaf8",
    "outputId": "c1e0aeb1-399b-4b2c-d3df-02e8839f4c7d"
   },
   "outputs": [],
   "source": [
    "plt.rcParams.update({'font.size': 12}) \n",
    "metrics.plot_confusion_matrix(lr_gs, X_test, y_test, cmap = 'PuRd',colorbar = False, display_labels = ['No Risk','High Risk']);\n",
    "plt.title('Logistic Regression');"
   ]
  },
  {
   "cell_type": "code",
   "execution_count": null,
   "id": "ec69456f",
   "metadata": {
    "colab": {
     "base_uri": "https://localhost:8080/",
     "height": 81
    },
    "id": "ec69456f",
    "outputId": "f328ae13-6825-4feb-e3f7-deae8937ba9d"
   },
   "outputs": [],
   "source": [
    "grid_df = add_2_grid(lr_gs, X_test, y_test, 'Logistic Regression')\n",
    "grid_df"
   ]
  },
  {
   "cell_type": "markdown",
   "id": "6cd909de",
   "metadata": {
    "id": "6cd909de"
   },
   "source": [
    "## Bagging Classifier"
   ]
  },
  {
   "cell_type": "code",
   "execution_count": null,
   "id": "34244184",
   "metadata": {
    "colab": {
     "base_uri": "https://localhost:8080/"
    },
    "id": "34244184",
    "outputId": "e68ac4bb-908d-4ab0-8dc1-294c886f20ac"
   },
   "outputs": [],
   "source": [
    "params = {\n",
    "    'n_estimators' : [10, 50, 100],\n",
    "    'bootstrap' : [True, False],\n",
    "    'max_features' : [0.10, 0.25, ]}\n",
    "\n",
    "bag_gs = GridSearchCV(BaggingClassifier(),\n",
    "                      params,\n",
    "                      cv = 5,\n",
    "                      verbose = 1)\n",
    "\n",
    "bag_gs.fit(X_train,y_train)\n",
    "bag_gs.best_params_, bag_gs.best_score_"
   ]
  },
  {
   "cell_type": "code",
   "execution_count": null,
   "id": "1ff1c26b",
   "metadata": {
    "colab": {
     "base_uri": "https://localhost:8080/"
    },
    "id": "1ff1c26b",
    "outputId": "de46e0c2-b1e2-4cb1-d4c2-0983ac3cdd22"
   },
   "outputs": [],
   "source": [
    "print('Train:', bag_gs.score(X_train, y_train))\n",
    "print('Test:', bag_gs.score(X_test, y_test))"
   ]
  },
  {
   "cell_type": "code",
   "execution_count": null,
   "id": "4a1ca723",
   "metadata": {
    "colab": {
     "base_uri": "https://localhost:8080/",
     "height": 357
    },
    "id": "4a1ca723",
    "outputId": "adcdb8c1-7632-4002-ca8d-8c2f0fe87c7f"
   },
   "outputs": [],
   "source": [
    "plt.rcParams.update({'font.size': 12}) \n",
    "metrics.plot_confusion_matrix(bag_gs, X_test, y_test, cmap = 'PuRd',colorbar = False, display_labels = ['Low Risk','High Risk']);\n",
    "plt.title('Bagging Classifier');"
   ]
  },
  {
   "cell_type": "code",
   "execution_count": null,
   "id": "b9146935",
   "metadata": {
    "colab": {
     "base_uri": "https://localhost:8080/",
     "height": 112
    },
    "id": "b9146935",
    "outputId": "f344f1d2-9c5c-4301-9d8d-7bc45f4ce288"
   },
   "outputs": [],
   "source": [
    "grid_df = add_2_grid(bag_gs, X_test, y_test, 'Bagging Classifier')\n",
    "grid_df"
   ]
  },
  {
   "cell_type": "markdown",
   "id": "8af24220",
   "metadata": {
    "id": "8af24220"
   },
   "source": [
    "## Ada Boost <span id = 'ada'>"
   ]
  },
  {
   "cell_type": "code",
   "execution_count": null,
   "id": "9f33c156",
   "metadata": {
    "colab": {
     "base_uri": "https://localhost:8080/"
    },
    "id": "9f33c156",
    "outputId": "ac0125ce-54d5-4086-9240-292406dcc0c9"
   },
   "outputs": [],
   "source": [
    "ada = AdaBoostClassifier()\n",
    "params = {\n",
    "    #'base_estimator__max_depth': [2, 3, 4, 5],\n",
    "    'n_estimators' : [50, 100, 150],\n",
    "    'learning_rate' : [1, 0.5, 0.1]\n",
    "}\n",
    "\n",
    "ada_gs = GridSearchCV(ada,\n",
    "                      params,\n",
    "                      cv = 4)\n",
    "\n",
    "ada_gs.fit(X_train,y_train)\n",
    "ada_gs.best_params_, ada_gs.best_score_"
   ]
  },
  {
   "cell_type": "code",
   "execution_count": null,
   "id": "499ebd37",
   "metadata": {
    "colab": {
     "base_uri": "https://localhost:8080/"
    },
    "id": "499ebd37",
    "outputId": "a448a84b-5845-494c-eaab-6dac3f0cffa5"
   },
   "outputs": [],
   "source": [
    "print('Train:', ada_gs.score(X_train, y_train))\n",
    "print('Test:', ada_gs.score(X_test, y_test))"
   ]
  },
  {
   "cell_type": "markdown",
   "id": "a7a4a0b4",
   "metadata": {
    "id": "a7a4a0b4"
   },
   "source": [
    "> The ada_gs did some 3% worse than the base model ada @ 0.913165"
   ]
  },
  {
   "cell_type": "code",
   "execution_count": null,
   "id": "bb3254bb",
   "metadata": {
    "colab": {
     "base_uri": "https://localhost:8080/",
     "height": 357
    },
    "id": "bb3254bb",
    "outputId": "14de4264-eeba-4f83-dd46-6efe2ad6f735"
   },
   "outputs": [],
   "source": [
    "plt.rcParams.update({'font.size': 12}) \n",
    "metrics.plot_confusion_matrix(ada_gs, X_test, y_test, cmap = 'PuRd',colorbar = False, display_labels = ['Low Risk','High Risk']);\n",
    "plt.title('Ada Boost')\n",
    "plt.show()"
   ]
  },
  {
   "cell_type": "code",
   "execution_count": null,
   "id": "485a48a4",
   "metadata": {
    "colab": {
     "base_uri": "https://localhost:8080/",
     "height": 143
    },
    "id": "485a48a4",
    "outputId": "93fb0e22-2a7a-4d26-caa0-6120c43669a5"
   },
   "outputs": [],
   "source": [
    "grid_df = add_2_grid(ada_gs, X_test, y_test, 'Ada Boost')\n",
    "grid_df"
   ]
  },
  {
   "cell_type": "markdown",
   "id": "388e5922",
   "metadata": {
    "id": "388e5922"
   },
   "source": [
    "## Gradient Boosting <span id ='gb'>"
   ]
  },
  {
   "cell_type": "code",
   "execution_count": null,
   "id": "3eed9849",
   "metadata": {
    "colab": {
     "base_uri": "https://localhost:8080/"
    },
    "id": "3eed9849",
    "outputId": "384a5605-ffc8-430d-feba-3bf204f9b97e",
    "scrolled": true
   },
   "outputs": [],
   "source": [
    "params  = {'learning_rate':[1, 0.1,0.5],\n",
    "          'n_estimators':[150, 200, 300],\n",
    "          'max_depth':[2, 3, 4]}\n",
    "\n",
    "gs_model = GridSearchCV(estimator =GradientBoostingClassifier(), \n",
    "                        param_grid = params,\n",
    "                        n_jobs=4,\n",
    "                        cv=3,\n",
    "                        verbose = 1)\n",
    "gs_model.fit(X_train,y_train)\n",
    "gs_model.best_params_, gs_model.best_score_"
   ]
  },
  {
   "cell_type": "code",
   "execution_count": null,
   "id": "45d1ffd2",
   "metadata": {
    "colab": {
     "base_uri": "https://localhost:8080/"
    },
    "id": "45d1ffd2",
    "outputId": "e22769af-ae90-463e-cb43-5bc9ba2eccb6"
   },
   "outputs": [],
   "source": [
    "print('Train:', gs_model.score(X_train, y_train))\n",
    "print('Test:', gs_model.score(X_test, y_test))"
   ]
  },
  {
   "cell_type": "markdown",
   "id": "4a98a742",
   "metadata": {
    "id": "4a98a742"
   },
   "source": [
    "> With gridsearch we see a 2.3% increase of **testing** score compared to the base model @ 0.904762"
   ]
  },
  {
   "cell_type": "code",
   "execution_count": null,
   "id": "8eabe27a",
   "metadata": {
    "colab": {
     "base_uri": "https://localhost:8080/",
     "height": 357
    },
    "id": "8eabe27a",
    "outputId": "a5848d26-780e-49f9-f5bc-23deffc25b0f"
   },
   "outputs": [],
   "source": [
    "plt.rcParams.update({'font.size': 12}) \n",
    "metrics.plot_confusion_matrix(gs_model, X_test, y_test, cmap = 'PuRd',colorbar = False, display_labels = ['Low Risk','High Risk']);\n",
    "plt.title('Gradient Boost');\n",
    "plt.show()"
   ]
  },
  {
   "cell_type": "code",
   "execution_count": null,
   "id": "a0ad7b0f",
   "metadata": {
    "colab": {
     "base_uri": "https://localhost:8080/",
     "height": 175
    },
    "id": "a0ad7b0f",
    "outputId": "0de8f404-bb61-4dcd-d769-a04a5c468109"
   },
   "outputs": [],
   "source": [
    "grid_df = add_2_grid(gs_model, X_test, y_test, 'Gradient Boost 1')\n",
    "grid_df"
   ]
  },
  {
   "cell_type": "markdown",
   "id": "9a63cb8b",
   "metadata": {
    "id": "9a63cb8b"
   },
   "source": [
    "## Random Forest <span id = 'rf'>"
   ]
  },
  {
   "cell_type": "code",
   "execution_count": null,
   "id": "d18511bf",
   "metadata": {
    "colab": {
     "base_uri": "https://localhost:8080/"
    },
    "id": "d18511bf",
    "outputId": "1592dad0-e3d9-4455-ab22-98994b9ebf88"
   },
   "outputs": [],
   "source": [
    "params = {\n",
    "    'n_estimators' :[100, 200],\n",
    "    'max_depth' : [50, None],\n",
    "    'min_samples_split' : [2, 4],\n",
    "    'min_samples_leaf' : [1, 3],\n",
    "}\n",
    "\n",
    "rf_gs = GridSearchCV(RandomForestClassifier(random_state=1663),\n",
    "                     params,\n",
    "                     cv = 5,\n",
    "                     verbose=1)\n",
    "\n",
    "rf_gs.fit(X_train,y_train)\n",
    "rf_gs.best_params_, rf_gs.best_score_"
   ]
  },
  {
   "cell_type": "code",
   "execution_count": null,
   "id": "aba927b3",
   "metadata": {
    "colab": {
     "base_uri": "https://localhost:8080/"
    },
    "id": "aba927b3",
    "outputId": "f6bd5e57-096b-4090-8a6a-7e7c0c4f1ae8"
   },
   "outputs": [],
   "source": [
    "print('Train:', rf_gs.score(X_train, y_train))\n",
    "print('Test:', rf_gs.score(X_test, y_test))"
   ]
  },
  {
   "cell_type": "markdown",
   "id": "d6da4f5c",
   "metadata": {
    "id": "d6da4f5c"
   },
   "source": [
    "> With the gridsearch, we seem to have gotten the same score as the base model @  0.915966, suggesting the default parameters were the best choice out of what we gave."
   ]
  },
  {
   "cell_type": "code",
   "execution_count": null,
   "id": "3c924891",
   "metadata": {
    "colab": {
     "base_uri": "https://localhost:8080/",
     "height": 357
    },
    "id": "3c924891",
    "outputId": "ceab7f30-933b-4680-aad2-d740b8fea894"
   },
   "outputs": [],
   "source": [
    "plt.rcParams.update({'font.size': 12}) \n",
    "metrics.plot_confusion_matrix(rf_gs, X_test, y_test, cmap = 'PuRd',colorbar = False, display_labels = ['Low Risk','High Risk']);\n",
    "plt.title('Random Forest');"
   ]
  },
  {
   "cell_type": "code",
   "execution_count": null,
   "id": "1fe5c675",
   "metadata": {
    "colab": {
     "base_uri": "https://localhost:8080/",
     "height": 206
    },
    "id": "1fe5c675",
    "outputId": "f9bfbed6-e0c6-4764-d29f-6fda968c89dd"
   },
   "outputs": [],
   "source": [
    "grid_df = add_2_grid(rf_gs, X_test, y_test, 'Random Forest')\n",
    "grid_df"
   ]
  },
  {
   "cell_type": "markdown",
   "id": "612bfa30",
   "metadata": {
    "id": "612bfa30"
   },
   "source": [
    "## Decision Tree <span id ='dt'>"
   ]
  },
  {
   "cell_type": "code",
   "execution_count": null,
   "id": "c593e9e7",
   "metadata": {
    "colab": {
     "base_uri": "https://localhost:8080/"
    },
    "id": "c593e9e7",
    "outputId": "c128c6a1-bf42-40b6-fa17-f7abf3f215bb"
   },
   "outputs": [],
   "source": [
    "params = {\n",
    "    'criterion' : ['gini', 'entropy'],\n",
    "    'min_samples_split' : [2, 5, 11],\n",
    "    'min_samples_leaf' : [1, 2, 3],\n",
    "    'ccp_alpha': [1, 0.1, 0],\n",
    "}\n",
    "\n",
    "dt_gs = GridSearchCV(DecisionTreeClassifier(),\n",
    "                     params,\n",
    "                     cv = 5,\n",
    "                     verbose = 1)\n",
    "\n",
    "dt_gs.fit(X_train,y_train)\n",
    "dt_gs.best_params_, dt_gs.best_score_"
   ]
  },
  {
   "cell_type": "code",
   "execution_count": null,
   "id": "3058b7a3",
   "metadata": {
    "colab": {
     "base_uri": "https://localhost:8080/"
    },
    "id": "3058b7a3",
    "outputId": "7090de9b-4592-457f-b7f0-d6c1827d192f"
   },
   "outputs": [],
   "source": [
    "dt_gs.best_params_, dt_gs.best_score_"
   ]
  },
  {
   "cell_type": "code",
   "execution_count": null,
   "id": "53821c9b",
   "metadata": {
    "colab": {
     "base_uri": "https://localhost:8080/"
    },
    "id": "53821c9b",
    "outputId": "7acb9e58-8b2a-41ea-a2b0-245ebbc78529"
   },
   "outputs": [],
   "source": [
    "print('Train:', dt_gs.score(X_train, y_train))\n",
    "print('Test:', dt_gs.score(X_test, y_test))"
   ]
  },
  {
   "cell_type": "markdown",
   "id": "d93a7faf",
   "metadata": {
    "id": "d93a7faf"
   },
   "source": [
    "> Super overfit, but i guess thats expected from a decision tree. Guess we can just ignore this one as a model"
   ]
  },
  {
   "cell_type": "code",
   "execution_count": null,
   "id": "f14e4c2d",
   "metadata": {
    "colab": {
     "base_uri": "https://localhost:8080/",
     "height": 357
    },
    "id": "f14e4c2d",
    "outputId": "a2e16b24-b7d3-409a-c878-78a895bb07ce"
   },
   "outputs": [],
   "source": [
    "plt.rcParams.update({'font.size': 12}) \n",
    "metrics.plot_confusion_matrix(dt_gs, X_test, y_test, cmap = 'PuRd',colorbar = False, display_labels = ['Low Risk','High Risk']);\n",
    "plt.title('Decision Tree');"
   ]
  },
  {
   "cell_type": "code",
   "execution_count": null,
   "id": "0b13964c",
   "metadata": {
    "colab": {
     "base_uri": "https://localhost:8080/",
     "height": 238
    },
    "id": "0b13964c",
    "outputId": "c00b5714-8dac-42ff-c1be-9e4c8033bd11"
   },
   "outputs": [],
   "source": [
    "grid_df = add_2_grid(dt_gs, X_test, y_test, 'Decision Tree')\n",
    "grid_df"
   ]
  },
  {
   "cell_type": "markdown",
   "id": "c026e9dc",
   "metadata": {
    "id": "c026e9dc"
   },
   "source": [
    "## SVC <span id = 'svc'>"
   ]
  },
  {
   "cell_type": "code",
   "execution_count": null,
   "id": "2de8c2e0",
   "metadata": {
    "colab": {
     "base_uri": "https://localhost:8080/"
    },
    "id": "2de8c2e0",
    "outputId": "e734b0b4-c792-4ed2-dfce-1e07d4e9b4a2"
   },
   "outputs": [],
   "source": [
    "params = {\n",
    "    'C' : [0.1, 1, 2],\n",
    "    'kernel' : ['poly', 'rbf', 'sigmoid'],\n",
    "    'degree' : [2, 3, 4],\n",
    "}\n",
    "\n",
    "svc_gs = GridSearchCV(SVC(),\n",
    "                      params,\n",
    "                      cv = 5,\n",
    "                      verbose = 1)\n",
    "\n",
    "svc_gs.fit(X_train, y_train)\n",
    "svc_gs.best_params_, svc_gs.best_score_\n"
   ]
  },
  {
   "cell_type": "code",
   "execution_count": null,
   "id": "fae39579",
   "metadata": {
    "colab": {
     "base_uri": "https://localhost:8080/"
    },
    "id": "fae39579",
    "outputId": "c3d492a9-7827-4cbb-dd22-e6e21a1aa273"
   },
   "outputs": [],
   "source": [
    "print('Train:', svc_gs.score(X_train, y_train))\n",
    "print('Test:', svc_gs.score(X_test, y_test))"
   ]
  },
  {
   "cell_type": "code",
   "execution_count": null,
   "id": "240f8200",
   "metadata": {
    "colab": {
     "base_uri": "https://localhost:8080/",
     "height": 357
    },
    "id": "240f8200",
    "outputId": "faa830c7-4ccb-40f0-c219-04596c559638"
   },
   "outputs": [],
   "source": [
    "plt.rcParams.update({'font.size': 12}) \n",
    "metrics.plot_confusion_matrix(svc_gs, X_test, y_test, cmap = 'PuRd',colorbar = False, display_labels = ['Low Risk','High Risk']);\n",
    "plt.title('SVC');"
   ]
  },
  {
   "cell_type": "code",
   "execution_count": null,
   "id": "41067c27",
   "metadata": {
    "colab": {
     "base_uri": "https://localhost:8080/",
     "height": 269
    },
    "id": "41067c27",
    "outputId": "a3e864fa-9373-4d2c-9e9a-8bdfd626e5c0"
   },
   "outputs": [],
   "source": [
    "grid_df = add_2_grid(svc_gs, X_test, y_test, 'SVC')\n",
    "grid_df"
   ]
  },
  {
   "cell_type": "markdown",
   "id": "e1c3575d",
   "metadata": {
    "id": "e1c3575d"
   },
   "source": [
    "## KNN <span id = 'hknn'>"
   ]
  },
  {
   "cell_type": "code",
   "execution_count": null,
   "id": "4ee31703",
   "metadata": {
    "colab": {
     "base_uri": "https://localhost:8080/"
    },
    "id": "4ee31703",
    "outputId": "7fe55854-2f74-4076-eea6-679fac6ca0db"
   },
   "outputs": [],
   "source": [
    "params = {\n",
    "    'n_neighbors' : np.arange(1, 20, 2),\n",
    "    'leaf_size' : [10, 20, 30 , 40],\n",
    "    'metric' : ['euclidean', 'minkowski','manhattan']\n",
    "}\n",
    "\n",
    "knn_gs = GridSearchCV(KNeighborsClassifier(),\n",
    "                      params,\n",
    "                      cv = 5,\n",
    "                      verbose = 1)\n",
    "\n",
    "knn_gs.fit(X_train, y_train)\n",
    "knn_gs.best_params_, knn_gs.best_score_"
   ]
  },
  {
   "cell_type": "code",
   "execution_count": null,
   "id": "a9c56a36",
   "metadata": {
    "colab": {
     "base_uri": "https://localhost:8080/"
    },
    "id": "a9c56a36",
    "outputId": "9812b1b9-a9c3-443a-d665-098b909b7cfe"
   },
   "outputs": [],
   "source": [
    "print('Train:', knn_gs.score(X_train, y_train))\n",
    "print('Test:', knn_gs.score(X_test, y_test))"
   ]
  },
  {
   "cell_type": "code",
   "execution_count": null,
   "id": "13bcaa44",
   "metadata": {
    "colab": {
     "base_uri": "https://localhost:8080/",
     "height": 357
    },
    "id": "13bcaa44",
    "outputId": "ca8121e4-e1ff-4666-e81d-26be4d9b169a"
   },
   "outputs": [],
   "source": [
    "plt.rcParams.update({'font.size': 12}) \n",
    "metrics.plot_confusion_matrix(knn_gs, X_test, y_test, cmap = 'PuRd',colorbar = False, display_labels = ['Low Risk','High Risk']);\n",
    "plt.title('KNN');"
   ]
  },
  {
   "cell_type": "code",
   "execution_count": null,
   "id": "229e98d5",
   "metadata": {
    "colab": {
     "base_uri": "https://localhost:8080/",
     "height": 300
    },
    "id": "229e98d5",
    "outputId": "7b8aebfc-b950-476a-b885-839a6abbacb4"
   },
   "outputs": [],
   "source": [
    "grid_df = add_2_grid(knn_gs, X_test, y_test, 'KNN')\n",
    "grid_df"
   ]
  },
  {
   "cell_type": "markdown",
   "id": "f24aca5d",
   "metadata": {
    "id": "f24aca5d"
   },
   "source": [
    "## BNB <span id ='hbnb'>"
   ]
  },
  {
   "cell_type": "code",
   "execution_count": null,
   "id": "a57c8dc2",
   "metadata": {
    "colab": {
     "base_uri": "https://localhost:8080/"
    },
    "id": "a57c8dc2",
    "outputId": "919bb12e-99ae-4700-85f6-95ffeabed611"
   },
   "outputs": [],
   "source": [
    "params = {\n",
    "    'alpha' : [1, 0.5, 1.0e-10],\n",
    "}\n",
    "\n",
    "bnb_gs = GridSearchCV(BernoulliNB(),\n",
    "                      params,\n",
    "                      cv = 5,\n",
    "                      verbose = 1)\n",
    "\n",
    "bnb_gs.fit(X_train, y_train)\n",
    "bnb_gs.best_params_, bnb_gs.best_score_"
   ]
  },
  {
   "cell_type": "code",
   "execution_count": null,
   "id": "8317d69a",
   "metadata": {
    "colab": {
     "base_uri": "https://localhost:8080/"
    },
    "id": "8317d69a",
    "outputId": "55f93c99-4694-4c3d-da2b-baa994d6f48e"
   },
   "outputs": [],
   "source": [
    "print('Train:', bnb_gs.score(X_train, y_train))\n",
    "print('Test:', bnb_gs.score(X_test, y_test))"
   ]
  },
  {
   "cell_type": "code",
   "execution_count": null,
   "id": "d339a6b8",
   "metadata": {
    "colab": {
     "base_uri": "https://localhost:8080/",
     "height": 357
    },
    "id": "d339a6b8",
    "outputId": "cf9ede04-eb27-49a4-bf94-02d9dbed3672"
   },
   "outputs": [],
   "source": [
    "plt.rcParams.update({'font.size': 12}) \n",
    "metrics.plot_confusion_matrix(bnb_gs, X_test, y_test, cmap = 'PuRd',colorbar = False, display_labels = ['Low Risk','High Risk']);\n",
    "plt.title('Bernoulli NB');"
   ]
  },
  {
   "cell_type": "code",
   "execution_count": null,
   "id": "4d301c09",
   "metadata": {
    "colab": {
     "base_uri": "https://localhost:8080/",
     "height": 332
    },
    "id": "4d301c09",
    "outputId": "044cf717-5a1f-4b2b-d77c-2b10c8fedd92"
   },
   "outputs": [],
   "source": [
    "grid_df = add_2_grid(bnb_gs, X_test, y_test, 'Bernoulli Naive Bayes')\n",
    "grid_df"
   ]
  },
  {
   "cell_type": "markdown",
   "id": "483a1d42",
   "metadata": {
    "id": "483a1d42"
   },
   "source": [
    "## Neural Network <span id = 'nn'>"
   ]
  },
  {
   "cell_type": "code",
   "execution_count": null,
   "id": "7fe19e73",
   "metadata": {
    "id": "7fe19e73"
   },
   "outputs": [],
   "source": [
    "sc = StandardScaler()\n",
    "Z_train = sc.fit_transform(X_train)\n",
    "Z_test = sc.transform(X_test)"
   ]
  },
  {
   "cell_type": "code",
   "execution_count": null,
   "id": "d987d6bd",
   "metadata": {
    "colab": {
     "base_uri": "https://localhost:8080/"
    },
    "id": "d987d6bd",
    "outputId": "cf648de0-6a00-4aa0-b664-509d52dc3167"
   },
   "outputs": [],
   "source": [
    "Z_train.shape"
   ]
  },
  {
   "cell_type": "code",
   "execution_count": null,
   "id": "601fe554",
   "metadata": {
    "id": "601fe554"
   },
   "outputs": [],
   "source": [
    "model = Sequential()\n",
    "\n",
    "## Add input and hidden layer (first dense layer)\n",
    "model.add(Dense(64,\n",
    "               activation = 'relu',\n",
    "               input_shape = Z_train[0].shape))\n",
    "model.add(Dropout(0.05))\n",
    "\n",
    "## Add 2nd & 3rd hidden layer\n",
    "model.add(Dense(64, activation = 'relu'))\n",
    "model.add(Dropout(0.05))\n",
    "\n",
    "model.add(Dense(32, activation = 'relu'))\n",
    "model.add(Dropout(0.05))\n",
    "\n",
    "## Output layer\n",
    "model.add(Dense(1, activation = 'sigmoid'))\n",
    "\n",
    "# adding in earlystopping\n",
    "es = EarlyStopping(patience=5)\n",
    "\n",
    "# Compile our data\n",
    "model.compile(optimizer = 'adam',\n",
    "              loss = 'binary_crossentropy',\n",
    "              metrics = ['accuracy'])"
   ]
  },
  {
   "cell_type": "code",
   "execution_count": null,
   "id": "4b8453cc",
   "metadata": {
    "colab": {
     "base_uri": "https://localhost:8080/"
    },
    "id": "4b8453cc",
    "outputId": "ccb2dc2e-73d2-4208-ba47-1dd56809d70c",
    "scrolled": true
   },
   "outputs": [],
   "source": [
    "results = model.fit(Z_train, y_train,\n",
    "                    batch_size= 15,\n",
    "                    epochs=10,\n",
    "                    validation_data=(Z_test, y_test),\n",
    "                    verbose = 1)"
   ]
  },
  {
   "cell_type": "markdown",
   "id": "0932fc29",
   "metadata": {
    "id": "0932fc29"
   },
   "source": [
    "## Gradient Boosting Part 2 <span id = 'gd_boost2'>"
   ]
  },
  {
   "cell_type": "code",
   "execution_count": null,
   "id": "5315fccb",
   "metadata": {
    "colab": {
     "base_uri": "https://localhost:8080/"
    },
    "id": "5315fccb",
    "outputId": "0fc74b34-6ad3-4a0f-e396-caf64ea3c7ce"
   },
   "outputs": [],
   "source": [
    "params  = {'learning_rate':[0.15, 0.1],\n",
    "           'n_estimators':[150, 250],\n",
    "           'max_depth':[5, 6]}\n",
    "\n",
    "gs_model_2 = GridSearchCV(GradientBoostingClassifier(min_samples_split=2), \n",
    "                        param_grid = params, scoring='accuracy', n_jobs=4,  cv=5,\n",
    "                        verbose =1)\n",
    "gs_model_2.fit(X_train,y_train)\n",
    "print(gs_model_2.best_params_, gs_model_2.best_score_)"
   ]
  },
  {
   "cell_type": "code",
   "execution_count": null,
   "id": "a0bb0b47",
   "metadata": {
    "colab": {
     "base_uri": "https://localhost:8080/"
    },
    "id": "a0bb0b47",
    "outputId": "fd47ef08-e814-4b3f-86c5-bcbd2fd73735"
   },
   "outputs": [],
   "source": [
    "print('Train:', gs_model_2.score(X_train, y_train))\n",
    "print('Test:', gs_model_2.score(X_test, y_test))"
   ]
  },
  {
   "cell_type": "code",
   "execution_count": null,
   "id": "cb58e577",
   "metadata": {
    "colab": {
     "base_uri": "https://localhost:8080/",
     "height": 357
    },
    "id": "cb58e577",
    "outputId": "6b52c5a6-9f28-425f-99d3-d11abf6c40c7"
   },
   "outputs": [],
   "source": [
    "plt.rcParams.update({'font.size': 12}) \n",
    "metrics.plot_confusion_matrix(gs_model_2, X_test, y_test, cmap = 'PuRd',colorbar = False, display_labels = ['Low Risk','High Risk']);\n",
    "plt.title('Gradient Boost 2');"
   ]
  },
  {
   "cell_type": "code",
   "execution_count": null,
   "id": "8f126578",
   "metadata": {
    "colab": {
     "base_uri": "https://localhost:8080/",
     "height": 363
    },
    "id": "8f126578",
    "outputId": "fc04e45a-32c3-45b3-a900-d849f3defb14"
   },
   "outputs": [],
   "source": [
    "grid_df = add_2_grid(gs_model_2, X_test, y_test, 'Gradient Boost 2')\n",
    "grid_df"
   ]
  },
  {
   "cell_type": "markdown",
   "id": "e0ab84cd",
   "metadata": {
    "id": "e0ab84cd"
   },
   "source": [
    "## Plotting 10 most important features From Gradient Boost updated"
   ]
  },
  {
   "cell_type": "code",
   "execution_count": null,
   "id": "3db3c560",
   "metadata": {
    "colab": {
     "base_uri": "https://localhost:8080/",
     "height": 657
    },
    "id": "3db3c560",
    "outputId": "8f550efa-9f11-4054-c70c-4dd8213864ef"
   },
   "outputs": [],
   "source": [
    "model1 = GradientBoostingClassifier(learning_rate=0.5, n_estimators=200,\n",
    "                                    max_depth=4, min_samples_split=2)\n",
    "model1.fit(X_train,y_train)\n",
    "predictors=list(X_train)\n",
    "plt.figure(figsize = (10, 7))\n",
    "imp_features = pd.Series(model1.feature_importances_, predictors).sort_values(ascending=False)\n",
    "imp_features[:10].plot(kind='barh', title='Importance of Features', color = 'lightcoral')\n",
    "plt.title('Feature Importance Values', fontsize = 20, pad  = 10)\n",
    "plt.ylabel('Values', fontsize = 15, labelpad = 10)\n",
    "plt.yticks(size = 15)\n",
    "plt.xlabel('Scores', fontsize = 15, labelpad = 10)\n",
    "plt.xticks(size = 15)\n",
    "print('Accuracy of GBC on testing data: {:.4f}'.format(model1.score(X_test, y_test)))\n",
    "y_pred=model1.predict(X_test)\n",
    "print(classification_report(y_test, y_pred))\n",
    "\n",
    "# plt.savefig('./imgs/imp_of_features.png',dpi=300, bbox_inches = \"tight\")"
   ]
  },
  {
   "cell_type": "markdown",
   "id": "01a1df70",
   "metadata": {
    "id": "01a1df70"
   },
   "source": [
    "## Voting Classifier <span id = 'voting'>"
   ]
  },
  {
   "cell_type": "code",
   "execution_count": null,
   "id": "c55ca9ed",
   "metadata": {
    "colab": {
     "base_uri": "https://localhost:8080/"
    },
    "id": "c55ca9ed",
    "outputId": "8f6dfd57-dd22-4022-aba5-a46c2a8b4575"
   },
   "outputs": [],
   "source": [
    "# need to scale it for the certain models\n",
    "svc_pipe = Pipeline([\n",
    "    ('sc', StandardScaler()),\n",
    "    ('svc', SVC())\n",
    "])\n",
    "\n",
    "knn_pipe = Pipeline([\n",
    "    ('sc', StandardScaler()),\n",
    "    ('knn', KNeighborsClassifier())\n",
    "])\n",
    "\n",
    "log_pipe = Pipeline([\n",
    "    ('sc', StandardScaler()),\n",
    "    ('log', LogisticRegression(max_iter=1000))\n",
    "])\n",
    "\n",
    "# making the voting classifier model\n",
    "vote = VotingClassifier([\n",
    "    ('ada', AdaBoostClassifier()),\n",
    "    ('gb', model1),\n",
    "    ('bag', BaggingClassifier()),\n",
    "    ('svc', svc_pipe),\n",
    "    ('log', log_pipe),\n",
    "    ('rf', RandomForestClassifier(max_depth = 50, n_estimators = 200)),\n",
    "    ('knn_pipe', knn_pipe)])\n",
    "vote.fit(X_train, y_train)"
   ]
  },
  {
   "cell_type": "code",
   "execution_count": null,
   "id": "2c4848fd",
   "metadata": {
    "colab": {
     "base_uri": "https://localhost:8080/"
    },
    "id": "2c4848fd",
    "outputId": "ce3f08f9-edb6-4985-ae01-c07b2d5f6428"
   },
   "outputs": [],
   "source": [
    "print(vote.score(X_train, y_train))\n",
    "print(vote.score(X_test, y_test))"
   ]
  },
  {
   "cell_type": "markdown",
   "id": "a5a1e2d3",
   "metadata": {
    "id": "a5a1e2d3"
   },
   "source": [
    "**Model Scores**  \n",
    "Overall, the best model we had for *accuracy* was the Gradient boosting at a 0.9244, followed by the Random Forest Model, which had 0.91036"
   ]
  },
  {
   "cell_type": "code",
   "execution_count": null,
   "id": "ef94f334",
   "metadata": {
    "colab": {
     "base_uri": "https://localhost:8080/",
     "height": 357
    },
    "id": "ef94f334",
    "outputId": "13718848-b2f1-430c-b22a-c0d387c06353"
   },
   "outputs": [],
   "source": [
    "plt.rcParams.update({'font.size': 12}) \n",
    "metrics.plot_confusion_matrix(vote, X_test, y_test, cmap = 'PuRd',colorbar = False, display_labels = ['Low Risk','High Risk']);\n",
    "plt.title('Voting Classifier');"
   ]
  },
  {
   "cell_type": "code",
   "execution_count": null,
   "id": "50fc1ba5",
   "metadata": {
    "colab": {
     "base_uri": "https://localhost:8080/",
     "height": 394
    },
    "id": "50fc1ba5",
    "outputId": "963fa696-7b55-47f9-b602-239c735429e3"
   },
   "outputs": [],
   "source": [
    "grid_df = add_2_grid(vote, X_test, y_test, 'Voting Classifier')\n",
    "grid_df"
   ]
  },
  {
   "cell_type": "markdown",
   "id": "971e4c47",
   "metadata": {
    "id": "971e4c47"
   },
   "source": [
    "<span id ='gridsearch_scores'></span>\n",
    "## Data Frame of all our GridSearch scores, with Recall, Precision, Accuracy"
   ]
  },
  {
   "cell_type": "code",
   "execution_count": null,
   "id": "6a1752c4",
   "metadata": {
    "colab": {
     "base_uri": "https://localhost:8080/",
     "height": 394
    },
    "id": "6a1752c4",
    "outputId": "b7eab068-2654-4cf4-e973-7791a5b96b7c"
   },
   "outputs": [],
   "source": [
    "grid_df.reset_index(inplace=True)\n",
    "grid_df.drop('index', axis = 1, inplace = True)\n",
    "\n",
    "grid_df"
   ]
  },
  {
   "cell_type": "markdown",
   "id": "c9d2ae0b",
   "metadata": {
    "id": "c9d2ae0b"
   },
   "source": [
    "<span id = 'hanalysis'></span>\n",
    "# Analysis of Data using Gradient Boost 3 model"
   ]
  },
  {
   "cell_type": "code",
   "execution_count": null,
   "id": "17da3110",
   "metadata": {
    "colab": {
     "base_uri": "https://localhost:8080/"
    },
    "id": "17da3110",
    "outputId": "f1419961-40a6-4d6e-c519-5216b83b83b8",
    "scrolled": true
   },
   "outputs": [],
   "source": [
    "for i in range(10):\n",
    "    print(f'{imp_features.index[i]}: {round(imp_features[i],5)}')\n",
    "    print('---'*13)"
   ]
  },
  {
   "cell_type": "markdown",
   "id": "a4466023",
   "metadata": {
    "id": "a4466023"
   },
   "source": [
    "<span id = 'hcnr'></span>\n",
    "### Conclusions and Recommendations\n",
    "![image.png](data:image/png;base64,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![image.png](data:image/png;base64,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))  For our Gradient descent model, the most important predictor was `resting SBP * ST slope` (Resting bp is resting systolic blood pressure & ST slope is a measurement of how well one's heart handles exercise). This feature alone made up almost 30% of our models' predictive ability.  In other words, the most prominent predictive factor for heart disease, according to our model, is whether an individual has a high resting systolic blood pressure along with how well their heart can handle exercise.  The next three most important features for our model were `sex * ST slope` which accounted for 7.1% for our model's prediction, followed by `sex * chest pain type`, which accounted for 6.75% of our model's predictive ability, and `chest pain type * resting SBP` which accounted for 6.41% of our model's predictive ability.\n",
    "\n",
    "  By identifying these key predictors that are most predictive of CVD in patients (in high-income countries), medical professionals will be able to more quickly and accurately identify patients most likely to have CVD.  Not only will this improve the speed at which individuals are initiated on treatment (and hence improve their health outcomes), but it will free up doctors' time to treat other patients needing treatment -- ultimately benefiting the total patient population."
   ]
  },
  {
   "cell_type": "markdown",
   "id": "aacc043d",
   "metadata": {
    "id": "aacc043d"
   },
   "source": [
    "---"
   ]
  },
  {
   "cell_type": "markdown",
   "id": "e40de37c",
   "metadata": {
    "id": "e40de37c"
   },
   "source": [
    "<span id='jen'></span>\n",
    "# CHD work"
   ]
  },
  {
   "cell_type": "markdown",
   "id": "eb4e60cf",
   "metadata": {
    "id": "eb4e60cf"
   },
   "source": [
    "**Data Dictionary**\n",
    "\n",
    "|    | Column Name              | Description                                                                                                                                                                                                                                       | Type    |\n",
    "|---:|:-------------------------|:--------------------------------------------------------------------------------------------------------------------------------------------------------------------------------------------------------------------------------------------------|:--------|\n",
    "|  | state_abbr               | State abbreviation                                                                                                                                                                                                                                | Object  |\n",
    "|  | state                    | State name                                                                                                                                                                                                                                        | Object  |\n",
    "|  | county                   | County name                                                                                                                                                                                                                                       | Object  |\n",
    "|  | county_fips              | County fips code                                                                                                                                                                                                                                  | Integer |\n",
    "|  | tract_fips               | Census tract fips code                                                                                                                                                                                                                            | Integer |\n",
    "|  | total_pop                | Total Population of Census 2010                                                                                                                                                                                                                   | Integer |\n",
    "|  | access_to_healthcare     | Model-based estimate for crude prevalence of current lack of health insurance among adults aged 18-64 years, 2018                                                                                                                                 | Float   |\n",
    "|  | arthritis                | Model-based estimate for crude prevalence of arthritis among adults aged >=18 years, 2018                                                                                                                                                         | Float   |\n",
    "|  | binge_drinking           | Model-based estimate for crude prevalence of binge drinking among adults aged >=18 years, 2018                                                                                                                                                    | Float   |\n",
    "|  | high_bp                  | Model-based estimate for crude prevalence of high blood pressure among adults aged >=18 years, 2017                                                                                                                                               | Float   |\n",
    "|  | meds_for_high_bp         | Model-based estimate for crude prevalence of taking medicine for high blood pressure control among adults aged >=18 years with high blood pressure, 2017                                                                                          | Float   |\n",
    "|  | cancer                   | Model-based estimate for crude prevalence of cancer (excluding skin cancer) among adults aged >=18 years, 2018                                                                                                                                    | Float   |\n",
    "|  | current_asthma           | Model-based estimate for crude prevalence of current asthma among adults aged >=18 years, 2018                                                                                                                                                    | Float   |\n",
    "|  | cervical_screening       | Model-based estimate for crude prevalence of cervical cancer screening among adult women aged 21–65 years, 2018                                                                                                                                   | Float   |\n",
    "|  | chd                      | Model-based estimate for crude prevalence of coronary heart disease among adults aged >=18 years, 2018                                                                                                                                            | Float   |\n",
    "|  | doc_checkups             | Model-based estimate for crude prevalence of visits to doctor for routine checkup within the past year among adults aged >=18 years, 2018                                                                                                         | Float   |\n",
    "|  | chol_screen              | Model-based estimate for crude prevalence of cholesterol screening among adults aged >=18 years, 2017                                                                                                                                             | Float   |\n",
    "|  | colon_screen             | Model-based estimate for crude prevalence of fecal occult blood test, sigmoidoscopy, or colonoscopy among adults aged 50–75 years, 2018                                                                                                           | Float   |\n",
    "|  | copd                     | Model-based estimate for crude prevalence of chronic obstructive pulmonary disease among adults aged >=18 years, 2018                                                                                                                             | Float   |\n",
    "|  | core_preventative_men    | Model-based estimate for crude prevalence of older adult men aged >=65 years who are up to date on a core set of clinical preventive services: Flu shot past year, PPV shot ever, Colorectal cancer screening, 2018                               | Float   |\n",
    "|  | core_preventative_female | Model-based estimate for crude prevalence of older adult women aged >=65 years who are up to date on a core set of clinical preventive services: Flu shot past year, PPV shot ever, Colorectal cancer screening, and Mammogram past 2 years, 2018 | Float   |\n",
    "|  | current_smoker           | Model-based estimate for crude prevalence of current smoking among adults aged >=18 years, 2018                                                                                                                                                   | Float   |\n",
    "|  | dental_visits            | Model-based estimate for crude prevalence of visits to dentist or dental clinic among adults aged >=18 years, 2018                                                                                                                                | Float   |\n",
    "|  | diabetes                 | Model-based estimate for crude prevalence of diagnosed diabetes among adults aged >=18 years, 2018                                                                                                                                                | Float   |\n",
    "|  | high_chol                | Model-based estimate for crude prevalence of high cholesterol among adults aged >=18 years who have been screened in the past 5 years, 2017                                                                                                       | Float   |\n",
    "|  | kidney_disease           | Model-based estimate for crude prevalence of chronic kidney disease among adults aged >=18 years, 2018                                                                                                                                            | Float   |\n",
    "|  | physical_activity        | Model-based estimate for crude prevalence of no leisure-time physical activity among adults aged >=18 years, 2018                                                                                                                                 | Float   |\n",
    "|  | mammography              | Model-based estimate for crude prevalence of mammography use among women aged 50–74 years, 2018                                                                                                                                                   | Float   |\n",
    "|  | mental_health            | Model-based estimate for crude prevalence of mental health not good for >=14 days among adults aged >=18 years, 2018                                                                                                                              | Float   |\n",
    "|  | obesity                  | Model-based estimate for crude prevalence of obesity among adults aged >=18 years, 2018                                                                                                                                                           | Float   |\n",
    "|  | poor_physical_health     | Model-based estimate for crude prevalence of physical health not good for >=14 days among adults aged >=18 years, 2018                                                                                                                            | Float   |\n",
    "|  | poor_sleep               | Model-based estimate for crude prevalence of sleeping less than 7 hours among adults aged >=18 years, 2018                                                                                                                                        | Float   |\n",
    "|  | stroke                   | Model-based estimate for crude prevalence of stroke among adults aged >=18 years, 2018                                                                                                                                                            | Float   |\n",
    "|  | teeth_lost               | Model-based estimate for crude prevalence of all teeth lost among adults aged >=65 years, 2018                                                                                                                                                    | Float   |"
   ]
  },
  {
   "cell_type": "markdown",
   "id": "72afb8ab",
   "metadata": {
    "id": "72afb8ab"
   },
   "source": [
    "## Cleaning and EDA <span id='jclean'>"
   ]
  },
  {
   "cell_type": "code",
   "execution_count": null,
   "id": "f80ca38d",
   "metadata": {
    "colab": {
     "base_uri": "https://localhost:8080/",
     "height": 226
    },
    "id": "f80ca38d",
    "outputId": "be04c265-06e2-4c3f-e151-0e72ceabe9f0"
   },
   "outputs": [],
   "source": [
    "df = pd.read_csv('/content/PLACES__Census_Tract_Data__GIS_Friendly_Format___2020_release.csv')\n",
    "df.head()"
   ]
  },
  {
   "cell_type": "code",
   "execution_count": null,
   "id": "4e0f1843",
   "metadata": {
    "colab": {
     "base_uri": "https://localhost:8080/"
    },
    "id": "4e0f1843",
    "outputId": "52782aab-3f83-4299-bfc5-6adbb69c243d"
   },
   "outputs": [],
   "source": [
    "df.shape"
   ]
  },
  {
   "cell_type": "code",
   "execution_count": null,
   "id": "955f2cd2",
   "metadata": {
    "colab": {
     "base_uri": "https://localhost:8080/"
    },
    "id": "955f2cd2",
    "outputId": "341992db-7cf3-4c6b-a01d-0756ea55688a"
   },
   "outputs": [],
   "source": [
    "df.dtypes"
   ]
  },
  {
   "cell_type": "code",
   "execution_count": null,
   "id": "e2c3628f",
   "metadata": {
    "colab": {
     "base_uri": "https://localhost:8080/"
    },
    "id": "e2c3628f",
    "outputId": "72babbbb-b97a-4867-ea35-e74eb86db1b9"
   },
   "outputs": [],
   "source": [
    "df.isnull().sum()"
   ]
  },
  {
   "cell_type": "code",
   "execution_count": null,
   "id": "a49c2cc6",
   "metadata": {
    "id": "a49c2cc6"
   },
   "outputs": [],
   "source": [
    "# Dropped all null values since it's a small amount of the data\n",
    "df.dropna(axis = 0, how = 'any', inplace = True)"
   ]
  },
  {
   "cell_type": "markdown",
   "id": "dbca21be",
   "metadata": {
    "id": "dbca21be"
   },
   "source": [
    "### Renaming Columns "
   ]
  },
  {
   "cell_type": "code",
   "execution_count": null,
   "id": "8b1923c8",
   "metadata": {
    "id": "8b1923c8"
   },
   "outputs": [],
   "source": [
    "df_dict = {\n",
    "    'StateAbbr': 'state_abbr', \n",
    "    'StateDesc': 'state',\n",
    "    'CountyName':'county',\n",
    "    'CountyFIPS':'county_fips',\n",
    "    'TractFIPS': 'tract_fips',\n",
    "    'TotalPopulation':'total_pop',\n",
    "    'ACCESS2_CrudePrev':'access_to_healthcare',\n",
    "    'ARTHRITIS_CrudePrev':'arthritis',\n",
    "    'BINGE_CrudePrev':'binge_drinking',\n",
    "    'BPHIGH_CrudePrev':'high_bp',\n",
    "    'BPMED_CrudePrev':'meds_for_high_bp',\n",
    "    'CANCER_CrudePrev':'cancer',\n",
    "    'CASTHMA_CrudePrev':'current_asthma',\n",
    "    'CERVICAL_CrudePrev':'cervical_screening',\n",
    "    'CHD_CrudePrev':'chd',\n",
    "    'CHECKUP_CrudePrev':'doc_checkups',\n",
    "    'CHOLSCREEN_CrudePrev':'chol_screen',\n",
    "    'COLON_SCREEN_CrudePrev':'colon_screen',\n",
    "    'COPD_CrudePrev':'copd',\n",
    "    'COREM_CrudePrev':'core_preventative_men',\n",
    "    'COREW_CrudePrev':'core_preventative_female',\n",
    "    'CSMOKING_CrudePrev':'current_smoker',\n",
    "    'DENTAL_CrudePrev':'dental_visits',\n",
    "    'DIABETES_CrudePrev':'diabetes',\n",
    "    'HIGHCHOL_CrudePrev':'high_chol',\n",
    "    'KIDNEY_CrudePrev':'kidney_disease',\n",
    "    'LPA_CrudePrev':'physical_activity',\n",
    "    'MAMMOUSE_CrudePrev':'mammography',\n",
    "    'MHLTH_CrudePrev':'mental_health',\n",
    "    'OBESITY_CrudePrev':'obesity',\n",
    "    'PHLTH_CrudePrev':'poor_physical_health',\n",
    "    'SLEEP_CrudePrev':'poor_sleep',\n",
    "    'STROKE_CrudePrev':'stroke',\n",
    "    'TEETHLOST_CrudePrev':'teeth_lost'\n",
    "}\n",
    "\n",
    "df.rename(columns = df_dict, inplace = True)"
   ]
  },
  {
   "cell_type": "code",
   "execution_count": null,
   "id": "e89592db",
   "metadata": {
    "colab": {
     "base_uri": "https://localhost:8080/",
     "height": 946
    },
    "id": "e89592db",
    "outputId": "6abcd8e5-1a41-4d31-d75c-76f21ddf0fad"
   },
   "outputs": [],
   "source": [
    "df.hist(figsize = (20,15), grid = False);\n",
    "plt.tight_layout();"
   ]
  },
  {
   "cell_type": "markdown",
   "id": "55ac52ce-f437-4709-a578-edc98e8e154d",
   "metadata": {
    "id": "55ac52ce-f437-4709-a578-edc98e8e154d"
   },
   "source": [
    "No major outliers identified. "
   ]
  },
  {
   "cell_type": "markdown",
   "id": "8682b210",
   "metadata": {
    "id": "8682b210"
   },
   "source": [
    "### Dummy column for states"
   ]
  },
  {
   "cell_type": "code",
   "execution_count": null,
   "id": "cb9a3596-7fab-464a-84e3-4b48e25acc4f",
   "metadata": {
    "colab": {
     "base_uri": "https://localhost:8080/",
     "height": 238
    },
    "id": "cb9a3596-7fab-464a-84e3-4b48e25acc4f",
    "outputId": "6597953c-cbdf-4d08-9e4f-bf07c3d46a3e"
   },
   "outputs": [],
   "source": [
    "state_df = df.groupby('state_abbr')[['chd']].mean().sort_values('chd', ascending = True)\n",
    "pd.DataFrame(state_df).head()"
   ]
  },
  {
   "cell_type": "code",
   "execution_count": null,
   "id": "5f92a3a1",
   "metadata": {
    "id": "5f92a3a1"
   },
   "outputs": [],
   "source": [
    "dummy = pd.get_dummies(df, columns = ['state_abbr'])\n",
    "dummy.drop(columns = ['state_abbr_DC'], inplace = True) # DC has the lowest chd risk rate - dropping\n",
    "\n",
    "df = pd.merge(df,dummy)\n",
    "\n",
    "df.drop(columns = ['state_abbr'], inplace = True)"
   ]
  },
  {
   "cell_type": "markdown",
   "id": "3046084f",
   "metadata": {
    "id": "3046084f"
   },
   "source": [
    "## Regression EDA <span id ='reg_eda'>"
   ]
  },
  {
   "cell_type": "code",
   "execution_count": null,
   "id": "d890c471",
   "metadata": {
    "colab": {
     "base_uri": "https://localhost:8080/",
     "height": 947
    },
    "id": "d890c471",
    "outputId": "0c6ccbe1-6f6a-48c6-8613-555f1e030959"
   },
   "outputs": [],
   "source": [
    "corr = df.corr()[['chd']]\n",
    "corr = corr.loc[(corr['chd'] > .3) | (corr['chd'] < -0.29)]\n",
    "\n",
    "# Heatmap\n",
    "plt.figure(figsize = (8,10))\n",
    "sns.heatmap(data = corr.sort_values(by = 'chd', ascending = False),\n",
    "           annot = True,\n",
    "           linewidths=0.1,\n",
    "           cmap = 'flare_r',\n",
    "           vmin=-0.5, \n",
    "           vmax=1);\n",
    "\n",
    "# plt.savefig('./imgs/chd_reg_corr.png', dpi = 300, bbox_inches = 'tight')\n",
    "plt.show()"
   ]
  },
  {
   "cell_type": "code",
   "execution_count": null,
   "id": "cab53039",
   "metadata": {
    "id": "cab53039"
   },
   "outputs": [],
   "source": [
    "plt.figure(figsize = (10,5))\n",
    "sns.regplot(x= 'copd', y= 'chd', data= df, color = 'salmon', line_kws = {'color': 'red'})\n",
    "plt.title('Coronary Heart Disease & Chronic Obstructive Pulmonary Disease Crude Prevalence', size = 15, pad = 10),\n",
    "plt.xlabel(xlabel = 'COPD', size = 15)\n",
    "plt.ylabel(ylabel = 'CHD', size = 15);\n",
    "# plt.savefig('./imgs/chd_COPD.png', dpi = 300, bbox_inches = 'tight')\n",
    "plt.show()"
   ]
  },
  {
   "cell_type": "code",
   "execution_count": null,
   "id": "796f9f3b",
   "metadata": {
    "id": "796f9f3b"
   },
   "outputs": [],
   "source": [
    "plt.figure(figsize = (10,5))\n",
    "sns.regplot(x= 'kidney_disease', y= 'chd', data= df, color = 'salmon', line_kws = {'color': 'red'})\n",
    "plt.title('Coronary Heart Disease & Kidney Disease Crude Prevalence', size = 15, pad = 10),\n",
    "plt.xlabel(xlabel = 'Kidney', size = 15)\n",
    "plt.ylabel(ylabel = 'CHD', size = 15);\n",
    "# plt.savefig('./imgs/chd_kd.png', dpi = 300, bbox_inches = 'tight')\n",
    "plt.show()"
   ]
  },
  {
   "cell_type": "code",
   "execution_count": null,
   "id": "5a8bccf2",
   "metadata": {
    "id": "5a8bccf2"
   },
   "outputs": [],
   "source": [
    "plt.figure(figsize = (10,5))\n",
    "sns.regplot(x= 'binge_drinking', y= 'chd', data= df, color = 'salmon', line_kws = {'color': 'red'})\n",
    "plt.title('Coronary Heart Disease & Binge Drinking Crude Prevalence', size = 15, pad = 10),\n",
    "plt.xlabel(xlabel = 'Binge Drinking', size = 15)\n",
    "plt.ylabel(ylabel = 'CHD', size = 15);\n",
    "# plt.savefig('./imgs/chd_binge_drink.png', dpi = 300, bbox_inches = 'tight')\n",
    "plt.show()"
   ]
  },
  {
   "cell_type": "code",
   "execution_count": null,
   "id": "9e817ce2",
   "metadata": {
    "id": "9e817ce2"
   },
   "outputs": [],
   "source": [
    "plt.figure(figsize = (10,5))\n",
    "sns.regplot(x= 'dental_visits', y= 'chd', data= df, color = 'salmon', line_kws = {'color': 'red'})\n",
    "plt.title('Coronary Heart Disease & Dental Visits Crude Prevalence', size = 15, pad = 10),\n",
    "plt.xlabel(xlabel = 'Dental Visits', size = 15)\n",
    "plt.ylabel(ylabel = 'CHD', size = 15);\n",
    "# plt.savefig('./imgs/chd_dental.png', dpi = 300, bbox_inches = 'tight')\n",
    "plt.show()"
   ]
  },
  {
   "cell_type": "markdown",
   "id": "0485f2a3",
   "metadata": {
    "id": "0485f2a3"
   },
   "source": [
    "The top two positively correlated values with crude prevalence of coronary heart disease are crude prevalence of chronic obstructive pulmonary disease (0.91) and crude prevalence of kidney disease (0.89). As crude prevalence of chronic obstructive pulmonary disease and/or kidney disease increase, crude prevalence of coronary heart disease increases. <br>\n",
    "\n",
    "The top two negatively correlated values with crude prevalence of coronary heart disease are crude prevalence of binge drinking (-0.63) and crude prevalence of visits to the dentist or dental clinic (-0.5). As crude prevalence of binge drinking and/or visits to the dentist or dental clinic increase, crude prevalence of coronary heart disease decreases."
   ]
  },
  {
   "cell_type": "markdown",
   "id": "51515465",
   "metadata": {
    "id": "51515465"
   },
   "source": [
    "# Regression Modeling <span id = 'reg_mod'>"
   ]
  },
  {
   "cell_type": "code",
   "execution_count": null,
   "id": "820d10b6",
   "metadata": {
    "id": "820d10b6"
   },
   "outputs": [],
   "source": [
    "# Copying df for regression modeling\n",
    "reg = df"
   ]
  },
  {
   "cell_type": "code",
   "execution_count": null,
   "id": "e9fab2a2",
   "metadata": {
    "id": "e9fab2a2"
   },
   "outputs": [],
   "source": [
    "X = reg._get_numeric_data().drop(columns = 'chd')\n",
    "y = reg['chd']\n",
    "\n",
    "X_train, X_test, y_train, y_test = train_test_split(X,y, random_state = 321)"
   ]
  },
  {
   "cell_type": "markdown",
   "id": "d009d047",
   "metadata": {
    "id": "d009d047"
   },
   "source": [
    "### Baseline"
   ]
  },
  {
   "cell_type": "code",
   "execution_count": null,
   "id": "3aab83c2",
   "metadata": {
    "id": "3aab83c2"
   },
   "outputs": [],
   "source": [
    "y_train_baseline = [y_train.mean()]*len(y_train)\n",
    "y_test_baseline = [y_train.mean()]*len(y_test)\n",
    "\n",
    "print(f'Baseline Train RMSE: {metrics.mean_squared_error(y_train,y_train_baseline) ** 0.5}')\n",
    "print(f'Baseline Test RMSE: {metrics.mean_squared_error(y_test, y_test_baseline) ** 0.5}')"
   ]
  },
  {
   "cell_type": "markdown",
   "id": "bec3aa63",
   "metadata": {
    "id": "bec3aa63"
   },
   "source": [
    "### Linear Regression"
   ]
  },
  {
   "cell_type": "code",
   "execution_count": null,
   "id": "f5479482",
   "metadata": {
    "colab": {
     "base_uri": "https://localhost:8080/"
    },
    "id": "f5479482",
    "outputId": "aab71cab-76de-4d61-af70-826f844d400c"
   },
   "outputs": [],
   "source": [
    "# Checking cross_val_score mean\n",
    "cross_val_score(LinearRegression(),X_train,y_train, cv = 20, scoring = 'r2').mean()"
   ]
  },
  {
   "cell_type": "code",
   "execution_count": null,
   "id": "57f0ee19",
   "metadata": {
    "colab": {
     "base_uri": "https://localhost:8080/"
    },
    "id": "57f0ee19",
    "outputId": "03a9b854-7c82-484d-c02e-9fa9fee6342e"
   },
   "outputs": [],
   "source": [
    "lr = LinearRegression()\n",
    "lr.fit(X_train, y_train)\n",
    "\n",
    "print(f'Linear Reg Train R2: {lr.score(X_train, y_train)}')\n",
    "print(f'Linear Reg Test R2: {lr.score(X_test, y_test)}')"
   ]
  },
  {
   "cell_type": "code",
   "execution_count": null,
   "id": "c5c2ca4b",
   "metadata": {
    "colab": {
     "base_uri": "https://localhost:8080/"
    },
    "id": "c5c2ca4b",
    "outputId": "98dc130a-2442-4804-9fc6-caed28714121"
   },
   "outputs": [],
   "source": [
    "# Setting Predictions\n",
    "train_preds = lr.predict(X_train)\n",
    "test_preds = lr.predict(X_test)\n",
    "\n",
    "print(f'Linear Reg Train RMSE: {metrics.mean_squared_error(y_train, train_preds, squared=False)}')\n",
    "print(f'Linear Reg Test RMSE: {metrics.mean_squared_error(y_test, test_preds, squared=False)}')"
   ]
  },
  {
   "cell_type": "markdown",
   "id": "634482dc",
   "metadata": {
    "id": "634482dc"
   },
   "source": [
    "### Regression Plot"
   ]
  },
  {
   "cell_type": "code",
   "execution_count": null,
   "id": "c0fede32",
   "metadata": {
    "colab": {
     "base_uri": "https://localhost:8080/",
     "height": 718
    },
    "id": "c0fede32",
    "outputId": "7eaea8ab-6eb6-48c4-dc53-56dfbf0056ea"
   },
   "outputs": [],
   "source": [
    "# Regression plot \n",
    "plt.figure(figsize = (10,5))\n",
    "sns.regplot(x = test_preds, y = y_test, ci=None, \n",
    "            color = 'salmon',\n",
    "            scatter_kws = {'s': 25}, \n",
    "            line_kws = {'color': 'red'})\n",
    "plt.xlabel('Target Predictions', size = 15, fontweight = 'bold')\n",
    "plt.xticks(size = 15)\n",
    "plt.ylabel('Target Values', size = 15, fontweight = 'bold')\n",
    "plt.yticks(size = 15)\n",
    "plt.title('Target Predictions vs Target Values', size = 15, pad = 15, fontweight = 'bold');\n",
    "plt.savefig('./imgs/chd_reg_plot.png', dpi = 300, bbox_inches = 'tight')\n",
    "plt.show()"
   ]
  },
  {
   "cell_type": "markdown",
   "id": "5de4e14a",
   "metadata": {
    "id": "5de4e14a"
   },
   "source": [
    "## Ridge <span id ='ridge'>"
   ]
  },
  {
   "cell_type": "code",
   "execution_count": null,
   "id": "114ee2d1",
   "metadata": {
    "id": "114ee2d1"
   },
   "outputs": [],
   "source": [
    "# Scale\n",
    "ss = StandardScaler()\n",
    "Z_train = ss.fit_transform(X_train)\n",
    "Z_test = ss.transform(X_test)"
   ]
  },
  {
   "cell_type": "code",
   "execution_count": null,
   "id": "b533d9d8",
   "metadata": {
    "colab": {
     "base_uri": "https://localhost:8080/"
    },
    "id": "b533d9d8",
    "outputId": "aa34d68d-9879-4450-a747-2bccc767dd70"
   },
   "outputs": [],
   "source": [
    "ridge_cv = RidgeCV(alphas = np.logspace(0,50,100), scoring = 'r2', cv = 5)\n",
    "ridge_cv.fit(Z_train, y_train)\n",
    "\n",
    "print(f'Ridge Train R2: {ridge_cv.score(Z_train, y_train)}')\n",
    "print(f'Ridge Test R2: {ridge_cv.score(Z_test, y_test)}')"
   ]
  },
  {
   "cell_type": "code",
   "execution_count": null,
   "id": "4cc9a808",
   "metadata": {
    "colab": {
     "base_uri": "https://localhost:8080/"
    },
    "id": "4cc9a808",
    "outputId": "221c6b1d-eb1b-438a-b749-7303b95daa28"
   },
   "outputs": [],
   "source": [
    "# Getting predictions for the RMSE\n",
    "ridge_train_preds = ridge_cv.predict(Z_train)\n",
    "ridge_test_preds = ridge_cv.predict(Z_test)\n",
    "\n",
    "print(f'Ridge Train RMSE: {metrics.mean_squared_error(y_train, ridge_train_preds, squared = False)}')\n",
    "print(f'Ridge Test RMSE: {metrics.mean_squared_error(y_test, ridge_test_preds, squared = False)}')"
   ]
  },
  {
   "cell_type": "markdown",
   "id": "16976bca",
   "metadata": {
    "id": "16976bca"
   },
   "source": [
    "### Ridge Plot"
   ]
  },
  {
   "cell_type": "code",
   "execution_count": null,
   "id": "bf926368",
   "metadata": {
    "colab": {
     "base_uri": "https://localhost:8080/",
     "height": 371
    },
    "id": "bf926368",
    "outputId": "6b98e85e-b053-4316-fb34-b1b0fc2722a4"
   },
   "outputs": [],
   "source": [
    "# Ridge plot \n",
    "plt.figure(figsize = (10,5))\n",
    "sns.regplot(x = ridge_test_preds, y = y_test, ci=None, \n",
    "            color = 'salmon',\n",
    "            scatter_kws = {'s': 25}, \n",
    "            line_kws = {'color': 'red'})\n",
    "plt.xlabel('Target Predictions', size = 15, fontweight = 'bold')\n",
    "plt.xticks(size = 15)\n",
    "plt.ylabel('Target Values', size = 15, fontweight = 'bold')\n",
    "plt.yticks(size = 15)\n",
    "plt.title('Ridge Target Predictions vs Target Values', size = 15, pad = 15, fontweight = 'bold');\n",
    "# plt.savefig('./imgs/chd_ridge_plot.png', dpi = 300, bbox_inches = 'tight')\n",
    "plt.show()"
   ]
  },
  {
   "cell_type": "markdown",
   "id": "e035834d",
   "metadata": {
    "id": "e035834d"
   },
   "source": [
    "## Lasso <span id = 'lasso'>"
   ]
  },
  {
   "cell_type": "code",
   "execution_count": null,
   "id": "7c61305f",
   "metadata": {
    "colab": {
     "base_uri": "https://localhost:8080/"
    },
    "id": "7c61305f",
    "outputId": "22514de5-0467-4f96-be6f-5a574fe1b1d0"
   },
   "outputs": [],
   "source": [
    "lasso = LassoCV(cv = 5)\n",
    "lasso.fit(Z_train, y_train)\n",
    "\n",
    "print(f'Lasso Train R2: {lasso.score(Z_train, y_train)}')\n",
    "print(f'Lasso Test R2: {lasso.score(Z_test, y_test)}')"
   ]
  },
  {
   "cell_type": "code",
   "execution_count": null,
   "id": "287d5f2f",
   "metadata": {
    "colab": {
     "base_uri": "https://localhost:8080/"
    },
    "id": "287d5f2f",
    "outputId": "5788f4bc-24eb-4911-90f6-e262ddd5f411"
   },
   "outputs": [],
   "source": [
    "lasso_train_preds = lasso.predict(Z_train)\n",
    "lasso_test_preds = lasso.predict(Z_test)\n",
    "\n",
    "print(f'Lasso Train RMSE: {metrics.mean_squared_error(y_train, lasso_train_preds, squared = False)}')\n",
    "print(f'Lasso Test RMSE: {metrics.mean_squared_error(y_test, lasso_test_preds, squared = False)}')"
   ]
  },
  {
   "cell_type": "markdown",
   "id": "fc6460e6",
   "metadata": {
    "id": "fc6460e6"
   },
   "source": [
    "### Lasso Plot"
   ]
  },
  {
   "cell_type": "code",
   "execution_count": null,
   "id": "a1586542",
   "metadata": {
    "colab": {
     "base_uri": "https://localhost:8080/",
     "height": 371
    },
    "id": "a1586542",
    "outputId": "e0925131-3573-468e-ec96-f145ea4a9940"
   },
   "outputs": [],
   "source": [
    "# Lasso plot \n",
    "plt.figure(figsize = (10,5))\n",
    "sns.regplot(x = lasso_test_preds, y = y_test, ci=None, \n",
    "            color = 'salmon',\n",
    "            scatter_kws = {'s': 25}, \n",
    "            line_kws = {'color': 'red'})\n",
    "plt.xlabel('Target Predictions', size = 15, fontweight = 'bold')\n",
    "plt.xticks(size = 15)\n",
    "plt.ylabel('Target Values', size = 15, fontweight = 'bold')\n",
    "plt.yticks(size = 15)\n",
    "plt.title('Lasso Target Predictions vs Target Values', size = 15, pad = 15, fontweight = 'bold');\n",
    "# plt.savefig('./imgs/chd_lasso_plot.png', dpi = 300, bbox_inches = 'tight')\n",
    "plt.show()"
   ]
  },
  {
   "cell_type": "markdown",
   "id": "4714bbfb",
   "metadata": {
    "id": "4714bbfb"
   },
   "source": [
    "## Regression Results <span id ='reg_results'>"
   ]
  },
  {
   "cell_type": "code",
   "execution_count": null,
   "id": "00f7409e",
   "metadata": {
    "colab": {
     "base_uri": "https://localhost:8080/",
     "height": 143
    },
    "id": "00f7409e",
    "outputId": "3b68b9d7-3e36-4405-c2e5-c6bfb5f47a3f"
   },
   "outputs": [],
   "source": [
    "reg_dict = {}\n",
    "\n",
    "reg_dict['Model'] = ['Linear Regression', 'Ridge Regression', 'Lasso Regression']\n",
    "reg_dict['Train R2'] = [lr.score(X_train, y_train), ridge_cv.score(Z_train, y_train), lasso.score(Z_train, y_train)]\n",
    "reg_dict['Test R2'] = [lr.score(X_test, y_test), ridge_cv.score(Z_test, y_test), lasso.score(Z_test, y_test)]\n",
    "reg_dict['Train RMSE'] = [metrics.mean_squared_error(y_train, train_preds, squared = False), metrics.mean_squared_error(y_train, ridge_train_preds, squared = False), metrics.mean_squared_error(y_train, lasso_train_preds, squared = False)]\n",
    "reg_dict['Test RMSE'] = [metrics.mean_squared_error(y_test, test_preds, squared = False), metrics.mean_squared_error(y_test, ridge_test_preds, squared = False), metrics.mean_squared_error(y_test, lasso_test_preds, squared = False)]\n",
    "\n",
    "reg_df = pd.DataFrame.from_dict(reg_dict, orient = 'columns')\n",
    "\n",
    "reg_df"
   ]
  },
  {
   "cell_type": "markdown",
   "id": "8c508a50",
   "metadata": {
    "id": "8c508a50"
   },
   "source": [
    "Our Linear Regression model is performing the best out of these three models with a Train R-squared score of .9914 and Test R-squared score of 0.9910. This is over 99% that our baseline model with no predictors. \n",
    "\n",
    "The Linear Regression model has the lowest RMSE scores, with a Train RMSE of 0.2036 and Test RMSE of 0.2066. These are almost 2.0 better than our baseline model."
   ]
  },
  {
   "cell_type": "markdown",
   "id": "4501c60b",
   "metadata": {
    "id": "4501c60b"
   },
   "source": [
    "# Classification <span id = 'classification'>"
   ]
  },
  {
   "cell_type": "markdown",
   "id": "c7add2f2",
   "metadata": {
    "id": "c7add2f2"
   },
   "source": [
    "<span id = 'cclean'></span>\n",
    "### Cleaning"
   ]
  },
  {
   "cell_type": "code",
   "execution_count": null,
   "id": "55ff3f3c",
   "metadata": {
    "id": "55ff3f3c"
   },
   "outputs": [],
   "source": [
    "# Creating list as reference for low & intermediate to high risk chd \n",
    "chd = []\n",
    "\n",
    "for i in df['chd']:\n",
    "    if i < 10: \n",
    "        chd.append(0)  # Low\n",
    "    elif i >= 10: \n",
    "        chd.append(1)  # Intermediate to High\n",
    "\n",
    "df['chd'] = chd"
   ]
  },
  {
   "cell_type": "code",
   "execution_count": null,
   "id": "8b1ebc0c",
   "metadata": {
    "colab": {
     "base_uri": "https://localhost:8080/"
    },
    "id": "8b1ebc0c",
    "outputId": "d6f36a41-f6a0-4324-f01f-06274837f4ff"
   },
   "outputs": [],
   "source": [
    "df.shape"
   ]
  },
  {
   "cell_type": "code",
   "execution_count": null,
   "id": "49dcec20",
   "metadata": {
    "colab": {
     "base_uri": "https://localhost:8080/"
    },
    "id": "49dcec20",
    "outputId": "40858fdf-c06c-41d7-d62e-2c1a0d7cdba7"
   },
   "outputs": [],
   "source": [
    "df[df['chd'] == 0].shape"
   ]
  },
  {
   "cell_type": "code",
   "execution_count": null,
   "id": "d646838a",
   "metadata": {
    "colab": {
     "base_uri": "https://localhost:8080/"
    },
    "id": "d646838a",
    "outputId": "e0712ab2-593d-4048-e58b-53630b57f955"
   },
   "outputs": [],
   "source": [
    "# Seeing how many rows are not 0\n",
    "72094-66716"
   ]
  },
  {
   "cell_type": "code",
   "execution_count": null,
   "id": "47902553",
   "metadata": {
    "colab": {
     "base_uri": "https://localhost:8080/"
    },
    "id": "47902553",
    "outputId": "16903981-8c56-4554-9872-8b9efc3684b6"
   },
   "outputs": [],
   "source": [
    "# Seeing how many rows need to be dropped from 0\n",
    "66716 - 5378"
   ]
  },
  {
   "cell_type": "code",
   "execution_count": null,
   "id": "71d3b049",
   "metadata": {
    "id": "71d3b049"
   },
   "outputs": [],
   "source": [
    "# Randomly dropping 61338 rows to have 5378 0s and 1s \n",
    "np.random.seed(321)\n",
    "remove = 61338\n",
    "remove_0 = df.loc[(df['chd']==0)]\n",
    "drop = np.random.choice(remove_0.index, remove, replace = False)\n",
    "\n",
    "# Inspired from https://stackoverflow.com/questions/28556942/pandas-remove-rows-at-random-without-shuffling-dataset"
   ]
  },
  {
   "cell_type": "code",
   "execution_count": null,
   "id": "ae8a484b",
   "metadata": {
    "colab": {
     "base_uri": "https://localhost:8080/"
    },
    "id": "ae8a484b",
    "outputId": "d560954c-3c14-4636-ca8e-f5ec15b23cef"
   },
   "outputs": [],
   "source": [
    "chd = df.drop(drop)\n",
    "\n",
    "chd['chd'].value_counts()"
   ]
  },
  {
   "cell_type": "code",
   "execution_count": null,
   "id": "ba100fb4",
   "metadata": {
    "id": "ba100fb4"
   },
   "outputs": [],
   "source": [
    "corr = chd.corr()[['chd']]\n",
    "corr = corr.loc[(corr['chd'] > .6) | (corr['chd'] < -0.35)]"
   ]
  },
  {
   "cell_type": "code",
   "execution_count": null,
   "id": "0d5aea19",
   "metadata": {
    "colab": {
     "base_uri": "https://localhost:8080/",
     "height": 436
    },
    "id": "0d5aea19",
    "outputId": "0a8385a0-fc86-4c30-d613-70fe7a3023ad"
   },
   "outputs": [],
   "source": [
    "plt.figure(figsize = (10,7))\n",
    "sns.heatmap(data = corr.sort_values(by = 'chd', ascending = False), annot = True, vmin=-1, \n",
    "            vmax=1, cmap = 'flare_r', linewidths=0.05);\n",
    "# plt.savefig('./imgs/chd_class_corr.png', dpi = 300, bbox_inches = 'tight')\n",
    "plt.show()"
   ]
  },
  {
   "cell_type": "markdown",
   "id": "651fcb4b-d9f7-45df-b582-09f04913c423",
   "metadata": {
    "id": "651fcb4b-d9f7-45df-b582-09f04913c423"
   },
   "source": [
    "The top two positively correlated values with crude prevalence of coronary heart disease are crude prevalence of chronic obstructive pulmonary disease (0.78) and crude prevalence of kidney disease (0.75). As crude prevalence of chronic obstructive pulmonary disease and/or kidney disease increase, crude prevalence of coronary heart disease increases. <br>\n",
    "\n",
    "The top two negatively correlated values with crude prevalence of coronary heart disease are crude prevalence of binge drinking (-0.67) and crude prevalence of visits to the dentist or dental clinic (-0.52). As crude prevalence of binge drinking and/or visits to the dentist or dental clinic increase, crude prevalence of coronary heart disease decreases."
   ]
  },
  {
   "cell_type": "markdown",
   "id": "cba696e2",
   "metadata": {
    "id": "cba696e2"
   },
   "source": [
    "## Modeling <span id= 'cmodel'>"
   ]
  },
  {
   "cell_type": "code",
   "execution_count": null,
   "id": "d3dba622",
   "metadata": {
    "id": "d3dba622"
   },
   "outputs": [],
   "source": [
    "X = chd._get_numeric_data().drop(columns = 'chd')\n",
    "y = chd['chd']\n",
    "\n",
    "X_train, X_test, y_train, y_test = train_test_split(X,y, stratify = y, random_state = 321)"
   ]
  },
  {
   "cell_type": "markdown",
   "id": "7e27ee5c",
   "metadata": {
    "id": "7e27ee5c"
   },
   "source": [
    "### Baseline"
   ]
  },
  {
   "cell_type": "code",
   "execution_count": null,
   "id": "385d3449",
   "metadata": {
    "colab": {
     "base_uri": "https://localhost:8080/"
    },
    "id": "385d3449",
    "outputId": "519d7859-ef3f-45d4-a865-a981aab09296"
   },
   "outputs": [],
   "source": [
    "y_train.value_counts(normalize = True)"
   ]
  },
  {
   "cell_type": "code",
   "execution_count": null,
   "id": "0258f750",
   "metadata": {
    "id": "0258f750"
   },
   "outputs": [],
   "source": [
    "# Scale Data\n",
    "ss = StandardScaler()\n",
    "Z_train = ss.fit_transform(X_train)\n",
    "Z_test = ss.transform(X_test)"
   ]
  },
  {
   "cell_type": "markdown",
   "id": "3be1587c",
   "metadata": {
    "id": "3be1587c"
   },
   "source": [
    "## Logistic Regression <span id = 'logreg'>"
   ]
  },
  {
   "cell_type": "code",
   "execution_count": null,
   "id": "56a391f1",
   "metadata": {
    "colab": {
     "base_uri": "https://localhost:8080/"
    },
    "id": "56a391f1",
    "outputId": "5f0bb78c-ee05-4a98-c476-0871f16596cf"
   },
   "outputs": [],
   "source": [
    "# Getting cross_val_score\n",
    "cross_val_score(LogisticRegression(max_iter=1000), Z_train, y_train, cv = 5).mean()"
   ]
  },
  {
   "cell_type": "code",
   "execution_count": null,
   "id": "95800b15",
   "metadata": {
    "colab": {
     "base_uri": "https://localhost:8080/"
    },
    "id": "95800b15",
    "outputId": "8f80f938-7def-459e-f2b5-09f5d4299ac3"
   },
   "outputs": [],
   "source": [
    "logreg = LogisticRegression(C = 1, penalty = 'l2', solver = 'liblinear')\n",
    "logreg.fit(Z_train, y_train)\n",
    "\n",
    "print(f'LogReg Train Accuracy: {logreg.score(Z_train, y_train)}')\n",
    "print(f'LogReg Test Accuracy: {logreg.score(Z_test, y_test)}')"
   ]
  },
  {
   "cell_type": "code",
   "execution_count": null,
   "id": "85eb264b",
   "metadata": {
    "colab": {
     "base_uri": "https://localhost:8080/",
     "height": 357
    },
    "id": "85eb264b",
    "outputId": "6d16c940-c588-48fb-d655-111f6622c913"
   },
   "outputs": [],
   "source": [
    "preds_logreg = logreg.predict(Z_test)\n",
    "\n",
    "tn, fp, fn, tp = metrics.confusion_matrix(y_test, preds_logreg).ravel()\n",
    "plt.rcParams.update({'font.size': 12}) \n",
    "metrics.plot_confusion_matrix(logreg, Z_test, y_test, cmap = 'PuRd',colorbar = False, display_labels = ['Low Risk','Int/High Risk']);\n",
    "plt.title('Logistic Regression');\n",
    "# plt.savefig('./imgs/chd_conf_logreg.png', dpi = 300, bbox_inches = 'tight')\n",
    "plt.show()"
   ]
  },
  {
   "cell_type": "code",
   "execution_count": null,
   "id": "4b18a878-ea06-44cc-a8b9-419164b812bd",
   "metadata": {
    "colab": {
     "base_uri": "https://localhost:8080/"
    },
    "id": "4b18a878-ea06-44cc-a8b9-419164b812bd",
    "outputId": "c976957e-65d5-449b-f0a1-7738ed4c581e"
   },
   "outputs": [],
   "source": [
    "print(f'Precision Rate: {metrics.precision_score(y_test, preds_logreg)}')\n",
    "print(f'Specificity Rate: {(tn / (tn + fp))}')\n",
    "print(f'Recall Rate: {metrics.recall_score(y_test, preds_logreg)}')\n",
    "print(f'Misclassification: {1 - (logreg.score(Z_test, y_test))}')\n",
    "print(f'F1 Score: {metrics.f1_score(y_test,preds_logreg)}')"
   ]
  },
  {
   "cell_type": "code",
   "execution_count": null,
   "id": "765a3e1e-35f4-4649-a1e4-8aaf317a03ea",
   "metadata": {
    "id": "765a3e1e-35f4-4649-a1e4-8aaf317a03ea"
   },
   "outputs": [],
   "source": [
    "logreg_spec = (tn / (tn + fp))\n",
    "logreg_misc = (1 - (logreg.score(Z_test, y_test)))"
   ]
  },
  {
   "cell_type": "markdown",
   "id": "20005730",
   "metadata": {
    "id": "20005730"
   },
   "source": [
    "## KNN <span id = 'knn'>"
   ]
  },
  {
   "cell_type": "code",
   "execution_count": null,
   "id": "e8d88509",
   "metadata": {
    "colab": {
     "base_uri": "https://localhost:8080/"
    },
    "id": "e8d88509",
    "outputId": "d7e7e8b4-9be7-487b-8200-be5aa429f3d1"
   },
   "outputs": [],
   "source": [
    "cross_val_score(KNeighborsClassifier(n_neighbors=3), Z_train, y_train, cv = 5).mean()"
   ]
  },
  {
   "cell_type": "code",
   "execution_count": null,
   "id": "6ace6b40",
   "metadata": {
    "colab": {
     "base_uri": "https://localhost:8080/"
    },
    "id": "6ace6b40",
    "outputId": "45389fd5-6b32-43b5-9f15-ddbb38c77ce4"
   },
   "outputs": [],
   "source": [
    "# Getting cross_val_score\n",
    "kn = KNeighborsClassifier(n_neighbors = 3)\n",
    "kn.fit(Z_train, y_train)\n",
    "\n",
    "print(f'KNN Train Accuracy: {kn.score(Z_train, y_train)}')\n",
    "print(f'KNN Test Accuracy: {kn.score(Z_test, y_test)}')"
   ]
  },
  {
   "cell_type": "code",
   "execution_count": null,
   "id": "12642eff",
   "metadata": {
    "colab": {
     "base_uri": "https://localhost:8080/",
     "height": 357
    },
    "id": "12642eff",
    "outputId": "fa87ec12-55a9-4f69-e3d7-c51942bf958c"
   },
   "outputs": [],
   "source": [
    "preds_kn = kn.predict(Z_test)\n",
    "\n",
    "tn, fp, fn, tp = metrics.confusion_matrix(y_test, preds_kn).ravel()\n",
    "plt.rcParams.update({'font.size': 12}) \n",
    "metrics.plot_confusion_matrix(kn, Z_test, y_test, cmap = 'PuRd',colorbar = False, display_labels = ['Low Risk','Int/High Risk']);\n",
    "plt.title('KNN');\n",
    "# plt.savefig('./imgs/chd_conf_knn.png', dpi = 300, bbox_inches = 'tight')\n",
    "plt.show()"
   ]
  },
  {
   "cell_type": "code",
   "execution_count": null,
   "id": "f3d72fc3-27e8-4768-a0f0-29459bfc28ab",
   "metadata": {
    "colab": {
     "base_uri": "https://localhost:8080/"
    },
    "id": "f3d72fc3-27e8-4768-a0f0-29459bfc28ab",
    "outputId": "54ef6373-9f14-453a-9480-2cf4ef5dc2ff"
   },
   "outputs": [],
   "source": [
    "print(f'Precision Rate: {metrics.precision_score(y_test, preds_kn)}')\n",
    "print(f'Specificity Rate: {(tn / (tn + fp))}')\n",
    "print(f'Recall Rate: {metrics.recall_score(y_test, preds_kn)}')\n",
    "print(f'Misclassification: {1 - (kn.score(Z_test, y_test))}')\n",
    "print(f'F1 Score: {metrics.f1_score(y_test,preds_kn)}')"
   ]
  },
  {
   "cell_type": "code",
   "execution_count": null,
   "id": "1cb94400-43c2-4a7e-a792-f9f70d5393a9",
   "metadata": {
    "id": "1cb94400-43c2-4a7e-a792-f9f70d5393a9"
   },
   "outputs": [],
   "source": [
    "kn_spec = (tn / (tn + fp))\n",
    "kn_misc = (1 - (kn.score(Z_test, y_test)))"
   ]
  },
  {
   "cell_type": "markdown",
   "id": "6caf3c2c",
   "metadata": {
    "id": "6caf3c2c"
   },
   "source": [
    "## BNB <span id = 'bnb'>"
   ]
  },
  {
   "cell_type": "code",
   "execution_count": null,
   "id": "5275875a",
   "metadata": {
    "colab": {
     "base_uri": "https://localhost:8080/"
    },
    "id": "5275875a",
    "outputId": "3fdfcea1-df65-44c5-dacc-0cc6e19c536b"
   },
   "outputs": [],
   "source": [
    "# Getting cross_val_score\n",
    "cross_val_score(BernoulliNB(), Z_train, y_train, cv = 5).mean()"
   ]
  },
  {
   "cell_type": "code",
   "execution_count": null,
   "id": "13a37559",
   "metadata": {
    "colab": {
     "base_uri": "https://localhost:8080/"
    },
    "id": "13a37559",
    "outputId": "da8636a8-c3fa-4ccc-ee08-b796f92ec9c9"
   },
   "outputs": [],
   "source": [
    "bnb = BernoulliNB()\n",
    "bnb.fit(Z_train, y_train)\n",
    "\n",
    "print(f'BernoulliNB Train Accuracy: {bnb.score(Z_train, y_train)}')\n",
    "print(f'BernoulliNB Test Accuracy Logreg: {bnb.score(Z_test, y_test)}')"
   ]
  },
  {
   "cell_type": "code",
   "execution_count": null,
   "id": "40776ebb",
   "metadata": {
    "colab": {
     "base_uri": "https://localhost:8080/",
     "height": 357
    },
    "id": "40776ebb",
    "outputId": "696297a0-4970-4b02-d485-72cb783ca317"
   },
   "outputs": [],
   "source": [
    "preds_bnb = bnb.predict(Z_test)\n",
    "\n",
    "tn, fp, fn, tp = metrics.confusion_matrix(y_test, preds_bnb).ravel()\n",
    "plt.rcParams.update({'font.size': 12}) \n",
    "metrics.plot_confusion_matrix(bnb, Z_test, y_test, cmap = 'PuRd',colorbar = False, display_labels = ['Low Risk','Int/High Risk']);\n",
    "plt.title('BNB');\n",
    "# plt.savefig('./imgs/chd_conf_bnb.png', dpi = 300, bbox_inches = 'tight')\n",
    "plt.show()"
   ]
  },
  {
   "cell_type": "code",
   "execution_count": null,
   "id": "f1da33af-4247-4780-8b8e-d05854e262a4",
   "metadata": {
    "colab": {
     "base_uri": "https://localhost:8080/"
    },
    "id": "f1da33af-4247-4780-8b8e-d05854e262a4",
    "outputId": "b50659df-a61f-4885-f50f-3f9889b03b9b"
   },
   "outputs": [],
   "source": [
    "print(f'Precision Rate: {metrics.precision_score(y_test, preds_bnb)}')\n",
    "print(f'Specificity Rate: {(tn / (tn + fp))}')\n",
    "print(f'Recall Rate: {metrics.recall_score(y_test, preds_bnb)}')\n",
    "print(f'Misclassification: {1 - (bnb.score(Z_test, y_test))}')\n",
    "print(f'F1 Score: {metrics.f1_score(y_test,preds_bnb)}')"
   ]
  },
  {
   "cell_type": "code",
   "execution_count": null,
   "id": "f489896e-651d-4def-9948-ca32f1e7be32",
   "metadata": {
    "id": "f489896e-651d-4def-9948-ca32f1e7be32"
   },
   "outputs": [],
   "source": [
    "bnb_spec = (tn / (tn + fp))\n",
    "bnb_misc = (1 - (bnb.score(Z_test, y_test)))"
   ]
  },
  {
   "cell_type": "markdown",
   "id": "9a25b3db",
   "metadata": {
    "id": "9a25b3db",
    "tags": []
   },
   "source": [
    "## Classification Results <span id = 'class_con'>"
   ]
  },
  {
   "cell_type": "code",
   "execution_count": null,
   "id": "2cc26d21",
   "metadata": {
    "colab": {
     "base_uri": "https://localhost:8080/",
     "height": 143
    },
    "id": "2cc26d21",
    "outputId": "be82b779-5037-435f-c2ee-3ad17d924328"
   },
   "outputs": [],
   "source": [
    "class_dict = {}\n",
    "\n",
    "class_dict['Model'] = ['Logistic Regression', 'KNN', 'BernoulliNB']\n",
    "class_dict['Train Accuracy'] = [logreg.score(Z_train, y_train), kn.score(Z_train, y_train), bnb.score(Z_train, y_train)]\n",
    "class_dict['Test Accuracy'] = [logreg.score(Z_test, y_test), kn.score(Z_test, y_test), bnb.score(Z_test, y_test)]\n",
    "class_dict['Recall'] = [metrics.recall_score(y_test, preds_logreg), metrics.recall_score(y_test, preds_kn), metrics.recall_score(y_test, preds_bnb)]\n",
    "class_dict['Precision'] = [metrics.precision_score(y_test, preds_logreg), metrics.precision_score(y_test, preds_kn), metrics.precision_score(y_test, preds_bnb)]\n",
    "class_dict['F1'] = [metrics.f1_score(y_test, preds_logreg),metrics.f1_score(y_test, preds_kn), metrics.f1_score(y_test, preds_bnb)]\n",
    "class_dict['Misclassification'] = [logreg_misc, kn_misc, bnb_misc]\n",
    "class_dict['Specificity'] = [logreg_spec, kn_spec, bnb_spec]\n",
    "\n",
    "class_df = pd.DataFrame.from_dict(class_dict, orient = 'columns')\n",
    "\n",
    "class_df"
   ]
  },
  {
   "cell_type": "markdown",
   "id": "26af7e4d",
   "metadata": {
    "id": "26af7e4d"
   },
   "source": [
    "Our Logistic Regression model is performing the best overall with a 0.987 train accuracy and 0.985 test accuracy. We have high recall and precision scores, indicating we were reasonably successful in predicting false positives and false negatives. We misclassified approximately 1.5% of the risk ratings. We were more successful in predicting false negatives vs. false positives, but are performing reasonably well overall. "
   ]
  },
  {
   "cell_type": "code",
   "execution_count": null,
   "id": "3c123b05-2791-4c8c-a207-7e159d394d01",
   "metadata": {
    "colab": {
     "base_uri": "https://localhost:8080/",
     "height": 312
    },
    "id": "3c123b05-2791-4c8c-a207-7e159d394d01",
    "outputId": "1fcf7a8d-51bc-4f21-e889-1f19dc97523d"
   },
   "outputs": [],
   "source": [
    "logreg_coefs = (pd.DataFrame(np.exp(logreg.coef_), columns = X.columns).T)\n",
    "logreg_coefs.sort_values(by = 0, axis = 0, ascending = False)[:10].plot(kind = 'barh', legend = False, title='Top CHD Coefficients', \n",
    "                                                                         color = 'lightcoral')\n",
    "plt.ylabel('Features', fontsize = 15, labelpad = 10)\n",
    "plt.yticks(size = 15)\n",
    "plt.xlabel('Coefs', fontsize = 15, labelpad = 10)\n",
    "plt.xticks(size = 15);\n",
    "# plt.savefig('./imgs/coefs_chd.png',dpi=300, bbox_inches = \"tight\")"
   ]
  },
  {
   "cell_type": "code",
   "execution_count": null,
   "id": "212ebd68-d1be-4b16-b862-e9f5ee32cd13",
   "metadata": {
    "colab": {
     "base_uri": "https://localhost:8080/",
     "height": 363
    },
    "id": "212ebd68-d1be-4b16-b862-e9f5ee32cd13",
    "outputId": "3bb7ceef-e0c7-4ed4-9172-86e707662c51"
   },
   "outputs": [],
   "source": [
    "np.exp(logreg_coefs.sort_values(by = 0, axis = 0, ascending = False).head(10))"
   ]
  },
  {
   "cell_type": "code",
   "execution_count": null,
   "id": "56daeed7",
   "metadata": {
    "colab": {
     "base_uri": "https://localhost:8080/",
     "height": 363
    },
    "id": "56daeed7",
    "outputId": "c3f8fd97-dc56-442d-cf6e-47454eeb9fc5"
   },
   "outputs": [],
   "source": [
    "np.exp(logreg_coefs.sort_values(by = 0, axis = 0, ascending = False).tail(10))"
   ]
  },
  {
   "cell_type": "markdown",
   "id": "9df05d74-abc4-4764-b84b-1b845799bfda",
   "metadata": {
    "id": "9df05d74-abc4-4764-b84b-1b845799bfda"
   },
   "source": [
    "<span id = 'class_con'></span>\n",
    "**States:** \n",
    "\n",
    "- If a person lives in the state of West Virginia, we would expect the crude prevalence of coronary heart disease to increase by 0.707789 compared to someone living in Washington DC, all else being constant. \n",
    "- If a person lives in the state of Kentucky, we would expect the crude prevalence of coronary heart disease to increase by 0.619679 compared to someone living in Washington DC, all else being constant. \n",
    "<br>\n",
    "<br>\n",
    "- If a person lives in the state of California, we would expect the crude prevalence of coronary heart disease to decrease by -0.621134 compared to someone living in Washington DC, all else being constant. \n",
    "- If a person lives in the state of Illinois, we would expect the crude prevalence of coronary heart disease to decrease by -0.526609 compared to someone living in Washington DC, all else being constant. \n",
    "\n",
    "**Crude Prevalence:**\n",
    "- For every 1 unit increase in the crude prevalence of chronic obstructive pulmonary disease, we would expect the crude prevalence of coronary heart disease to increase by 216.035 times, all else being constant.\n",
    "- For every 1 unit increase in the crude prevalence of kidney disease, we would expect the crude prevalence of coronary heart disease to increase by 157.837 times, all else being constant.\n",
    "- For every 1 unit increase in the crude prevalence of cancer, we would expect the crude prevalence of coronary heart disease to increase by 36.491, all else being constant.\n",
    "\n",
    "**Similar Features to Cleveland Hungary Dataset:**\n",
    "- For every 1 unit increase in crude prevalence of poor physical health, we would expect the crude prevalence of coronary heart disease to increase by 3.019379, all else being constant.\n",
    "- For every 1 unit increase in crude prevalence of high cholesterol, we would expect the crude prevalence of coronary heart disease to increase by 1.257013, all else being constant.\n",
    "- For every 1 unit increase in crude prevalence of high blood pressure, we would expect the crude prevalence of coronary heart disease to decrease by -0.561533, all else being constant."
   ]
  },
  {
   "cell_type": "markdown",
   "id": "4e825310",
   "metadata": {
    "id": "4e825310",
    "tags": []
   },
   "source": [
    "<span id = 'chdc'></span>\n",
    "## Conclusions\n",
    "Through our CHD evaluation, we would expect that the crude prevalence of kidney disease, chronic obstructive pulmonary disease, and/or cancer would increase the risk of an individual's crude prevalence of coronary heart disease.\n",
    "\n",
    "  Washington D.C. had the lowest average crude prevalence risk rate for coronary heart disease amongst all states in the U.S. We used Washington D.C. as our reference column when evaluating the average risk rates in other states. We expect the crude prevalence of coronary heart disease to increase by .707789 for a person living in the state of West Virginia, and the crude prevalence of heart disease to increase by 0.619679 for a person living in the state of Kentucky compared to someone living in Washington D.C, all else being constant.\n",
    "\n",
    "  By evaluating similar features to the CVD dataset, we concluded that for every 1 unit increase in crude prevalence of poor physical health, we would expect the crude prevalence of coronary heart disease to increase by 3.019379, for every 1 unit increase in crude prevalence of high cholesterol, we would expect the crude prevalence of coronary heart disease to increase by 1.257013, and for every 1 unit increase in crude prevalence of high blood pressure, we would expect the crude prevalence of coronary heart disease to decrease by -0.561533, all else being constant."
   ]
  },
  {
   "cell_type": "markdown",
   "id": "651a74fc",
   "metadata": {
    "id": "651a74fc"
   },
   "source": [
    "<span id = 'nxtsteps'></span>\n",
    "# Next Steps\n",
    "  In future iterations of our model, we would like to train our model on more diverse populations. Our current data set(s) primarily focus on populations in high-income countries, but ideally, we would like our results to be generalizable to a larger population. Therefore, collecting data on more diverse populations, specifically on age, sex, socio-economic status, race, and location, would help us build a build that can generalize to more people. Having more data (more diverse data or simply data in general) would be the best way to improve our model and its predictive ability.\n",
    "\n",
    "  We would also look at collecting data for a larger sample size, as our CVD dataset represented 1190 people.\n",
    "\n",
    "  We would also recommend collecting data on other subsets of CVD to gather more information on other potential risk factors that may not have been in our scope. Subsets may include Cerebrovascular Disease, Peripheral Arterial Disease, Rheumatic Heart Disease, Congenital Heart Disease.\n",
    "\n",
    "  After collecting supplementary data, we would need to train our model and fine-tune the hyperparameters. After the model has been trained, we would recommend deploying the model with the best performance for beta testing in hospitals or other health care facilities."
   ]
  },
  {
   "cell_type": "code",
   "execution_count": null,
   "id": "OOIdXDZ_VacS",
   "metadata": {
    "id": "OOIdXDZ_VacS"
   },
   "outputs": [],
   "source": []
  }
 ],
 "metadata": {
  "colab": {
   "collapsed_sections": [
    "4e825310"
   ],
   "name": "Heart Code.ipynb",
   "provenance": []
  },
  "kernelspec": {
   "display_name": "Python 3 (ipykernel)",
   "language": "python",
   "name": "python3"
  },
  "language_info": {
   "codemirror_mode": {
    "name": "ipython",
    "version": 3
   },
   "file_extension": ".py",
   "mimetype": "text/x-python",
   "name": "python",
   "nbconvert_exporter": "python",
   "pygments_lexer": "ipython3",
   "version": "3.8.8"
  }
 },
 "nbformat": 4,
 "nbformat_minor": 5
}
